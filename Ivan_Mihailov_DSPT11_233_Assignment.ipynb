{
  "nbformat": 4,
  "nbformat_minor": 0,
  "metadata": {
    "colab": {
      "name": "Ivan_Mihailov_DSPT11_233_Assignment.ipynb",
      "provenance": [],
      "collapsed_sections": [],
      "toc_visible": true,
      "mount_file_id": "1qJPaQU_UAfgppTiuh-ayZWC-ev2aQXM8",
      "authorship_tag": "ABX9TyOqEkpU0aXzT4CPJwESoOmd",
      "include_colab_link": true
    },
    "kernelspec": {
      "name": "python3",
      "display_name": "Python 3"
    },
    "language_info": {
      "name": "python"
    }
  },
  "cells": [
    {
      "cell_type": "markdown",
      "metadata": {
        "id": "view-in-github",
        "colab_type": "text"
      },
      "source": [
        "<a href=\"https://colab.research.google.com/github/ivan-mihailov/LS-Unit-2-Sprint-3-Assignments/blob/main/Ivan_Mihailov_DSPT11_233_Assignment.ipynb\" target=\"_parent\"><img src=\"https://colab.research.google.com/assets/colab-badge.svg\" alt=\"Open In Colab\"/></a>"
      ]
    },
    {
      "cell_type": "markdown",
      "metadata": {
        "id": "nawu7d7eK-IG"
      },
      "source": [
        "# Data Ingestion and initial EDA"
      ]
    },
    {
      "cell_type": "code",
      "metadata": {
        "id": "pr7tKQRiLZ1x"
      },
      "source": [
        "import pandas as pd\n",
        "import numpy as np"
      ],
      "execution_count": 1,
      "outputs": []
    },
    {
      "cell_type": "markdown",
      "metadata": {
        "id": "KoasZ9DBpS53"
      },
      "source": [
        "**Type of Problem:** Classification of Drought Conditions in U.S. Counties based on meteorological and soil data"
      ]
    },
    {
      "cell_type": "code",
      "metadata": {
        "colab": {
          "base_uri": "https://localhost:8080/",
          "height": 204
        },
        "id": "O-tXCTCeTm6T",
        "outputId": "621ba3be-3e5e-405a-f489-9b7eb426bbc3"
      },
      "source": [
        "# Ingest meteorological data from training dataset as dataframe\n",
        "train = pd.read_csv('/content/drive/MyDrive/Colab Notebooks/Lambda DS/Unit 2/05.Portfolio Project/Drought Data/train_timeseries/train_timeseries.csv')\n",
        "train.head()"
      ],
      "execution_count": 2,
      "outputs": [
        {
          "output_type": "execute_result",
          "data": {
            "text/html": [
              "<div>\n",
              "<style scoped>\n",
              "    .dataframe tbody tr th:only-of-type {\n",
              "        vertical-align: middle;\n",
              "    }\n",
              "\n",
              "    .dataframe tbody tr th {\n",
              "        vertical-align: top;\n",
              "    }\n",
              "\n",
              "    .dataframe thead th {\n",
              "        text-align: right;\n",
              "    }\n",
              "</style>\n",
              "<table border=\"1\" class=\"dataframe\">\n",
              "  <thead>\n",
              "    <tr style=\"text-align: right;\">\n",
              "      <th></th>\n",
              "      <th>fips</th>\n",
              "      <th>date</th>\n",
              "      <th>PRECTOT</th>\n",
              "      <th>PS</th>\n",
              "      <th>QV2M</th>\n",
              "      <th>T2M</th>\n",
              "      <th>T2MDEW</th>\n",
              "      <th>T2MWET</th>\n",
              "      <th>T2M_MAX</th>\n",
              "      <th>T2M_MIN</th>\n",
              "      <th>T2M_RANGE</th>\n",
              "      <th>TS</th>\n",
              "      <th>WS10M</th>\n",
              "      <th>WS10M_MAX</th>\n",
              "      <th>WS10M_MIN</th>\n",
              "      <th>WS10M_RANGE</th>\n",
              "      <th>WS50M</th>\n",
              "      <th>WS50M_MAX</th>\n",
              "      <th>WS50M_MIN</th>\n",
              "      <th>WS50M_RANGE</th>\n",
              "      <th>score</th>\n",
              "    </tr>\n",
              "  </thead>\n",
              "  <tbody>\n",
              "    <tr>\n",
              "      <th>0</th>\n",
              "      <td>1001</td>\n",
              "      <td>2000-01-01</td>\n",
              "      <td>0.22</td>\n",
              "      <td>100.51</td>\n",
              "      <td>9.65</td>\n",
              "      <td>14.74</td>\n",
              "      <td>13.51</td>\n",
              "      <td>13.51</td>\n",
              "      <td>20.96</td>\n",
              "      <td>11.46</td>\n",
              "      <td>9.50</td>\n",
              "      <td>14.65</td>\n",
              "      <td>2.20</td>\n",
              "      <td>2.94</td>\n",
              "      <td>1.49</td>\n",
              "      <td>1.46</td>\n",
              "      <td>4.85</td>\n",
              "      <td>6.04</td>\n",
              "      <td>3.23</td>\n",
              "      <td>2.81</td>\n",
              "      <td>NaN</td>\n",
              "    </tr>\n",
              "    <tr>\n",
              "      <th>1</th>\n",
              "      <td>1001</td>\n",
              "      <td>2000-01-02</td>\n",
              "      <td>0.20</td>\n",
              "      <td>100.55</td>\n",
              "      <td>10.42</td>\n",
              "      <td>16.69</td>\n",
              "      <td>14.71</td>\n",
              "      <td>14.71</td>\n",
              "      <td>22.80</td>\n",
              "      <td>12.61</td>\n",
              "      <td>10.18</td>\n",
              "      <td>16.60</td>\n",
              "      <td>2.52</td>\n",
              "      <td>3.43</td>\n",
              "      <td>1.83</td>\n",
              "      <td>1.60</td>\n",
              "      <td>5.33</td>\n",
              "      <td>6.13</td>\n",
              "      <td>3.72</td>\n",
              "      <td>2.41</td>\n",
              "      <td>NaN</td>\n",
              "    </tr>\n",
              "    <tr>\n",
              "      <th>2</th>\n",
              "      <td>1001</td>\n",
              "      <td>2000-01-03</td>\n",
              "      <td>3.65</td>\n",
              "      <td>100.15</td>\n",
              "      <td>11.76</td>\n",
              "      <td>18.49</td>\n",
              "      <td>16.52</td>\n",
              "      <td>16.52</td>\n",
              "      <td>22.73</td>\n",
              "      <td>15.32</td>\n",
              "      <td>7.41</td>\n",
              "      <td>18.41</td>\n",
              "      <td>4.03</td>\n",
              "      <td>5.33</td>\n",
              "      <td>2.66</td>\n",
              "      <td>2.67</td>\n",
              "      <td>7.53</td>\n",
              "      <td>9.52</td>\n",
              "      <td>5.87</td>\n",
              "      <td>3.66</td>\n",
              "      <td>NaN</td>\n",
              "    </tr>\n",
              "    <tr>\n",
              "      <th>3</th>\n",
              "      <td>1001</td>\n",
              "      <td>2000-01-04</td>\n",
              "      <td>15.95</td>\n",
              "      <td>100.29</td>\n",
              "      <td>6.42</td>\n",
              "      <td>11.40</td>\n",
              "      <td>6.09</td>\n",
              "      <td>6.10</td>\n",
              "      <td>18.09</td>\n",
              "      <td>2.16</td>\n",
              "      <td>15.92</td>\n",
              "      <td>11.31</td>\n",
              "      <td>3.84</td>\n",
              "      <td>5.67</td>\n",
              "      <td>2.08</td>\n",
              "      <td>3.59</td>\n",
              "      <td>6.73</td>\n",
              "      <td>9.31</td>\n",
              "      <td>3.74</td>\n",
              "      <td>5.58</td>\n",
              "      <td>1.0</td>\n",
              "    </tr>\n",
              "    <tr>\n",
              "      <th>4</th>\n",
              "      <td>1001</td>\n",
              "      <td>2000-01-05</td>\n",
              "      <td>0.00</td>\n",
              "      <td>101.15</td>\n",
              "      <td>2.95</td>\n",
              "      <td>3.86</td>\n",
              "      <td>-3.29</td>\n",
              "      <td>-3.20</td>\n",
              "      <td>10.82</td>\n",
              "      <td>-2.66</td>\n",
              "      <td>13.48</td>\n",
              "      <td>2.65</td>\n",
              "      <td>1.60</td>\n",
              "      <td>2.50</td>\n",
              "      <td>0.52</td>\n",
              "      <td>1.98</td>\n",
              "      <td>2.94</td>\n",
              "      <td>4.85</td>\n",
              "      <td>0.65</td>\n",
              "      <td>4.19</td>\n",
              "      <td>NaN</td>\n",
              "    </tr>\n",
              "  </tbody>\n",
              "</table>\n",
              "</div>"
            ],
            "text/plain": [
              "   fips        date  PRECTOT      PS  ...  WS50M_MAX  WS50M_MIN  WS50M_RANGE  score\n",
              "0  1001  2000-01-01     0.22  100.51  ...       6.04       3.23         2.81    NaN\n",
              "1  1001  2000-01-02     0.20  100.55  ...       6.13       3.72         2.41    NaN\n",
              "2  1001  2000-01-03     3.65  100.15  ...       9.52       5.87         3.66    NaN\n",
              "3  1001  2000-01-04    15.95  100.29  ...       9.31       3.74         5.58    1.0\n",
              "4  1001  2000-01-05     0.00  101.15  ...       4.85       0.65         4.19    NaN\n",
              "\n",
              "[5 rows x 21 columns]"
            ]
          },
          "metadata": {
            "tags": []
          },
          "execution_count": 2
        }
      ]
    },
    {
      "cell_type": "code",
      "metadata": {
        "colab": {
          "base_uri": "https://localhost:8080/"
        },
        "id": "Htw9773YU_3b",
        "outputId": "12e1f4d1-4287-464a-fa7f-8d6a3445292b"
      },
      "source": [
        "train.shape"
      ],
      "execution_count": 3,
      "outputs": [
        {
          "output_type": "execute_result",
          "data": {
            "text/plain": [
              "(19300680, 21)"
            ]
          },
          "metadata": {
            "tags": []
          },
          "execution_count": 3
        }
      ]
    },
    {
      "cell_type": "code",
      "metadata": {
        "colab": {
          "base_uri": "https://localhost:8080/"
        },
        "id": "X342hKiieicX",
        "outputId": "a433735b-a683-4945-c882-5052f39bb681"
      },
      "source": [
        "# Determine whether there are NaNs in the data and their significance (if any)\n",
        "train.isna().sum()"
      ],
      "execution_count": 4,
      "outputs": [
        {
          "output_type": "execute_result",
          "data": {
            "text/plain": [
              "fips                  0\n",
              "date                  0\n",
              "PRECTOT               0\n",
              "PS                    0\n",
              "QV2M                  0\n",
              "T2M                   0\n",
              "T2MDEW                0\n",
              "T2MWET                0\n",
              "T2M_MAX               0\n",
              "T2M_MIN               0\n",
              "T2M_RANGE             0\n",
              "TS                    0\n",
              "WS10M                 0\n",
              "WS10M_MAX             0\n",
              "WS10M_MIN             0\n",
              "WS10M_RANGE           0\n",
              "WS50M                 0\n",
              "WS50M_MAX             0\n",
              "WS50M_MIN             0\n",
              "WS50M_RANGE           0\n",
              "score          16543884\n",
              "dtype: int64"
            ]
          },
          "metadata": {
            "tags": []
          },
          "execution_count": 4
        }
      ]
    },
    {
      "cell_type": "code",
      "metadata": {
        "colab": {
          "base_uri": "https://localhost:8080/",
          "height": 317
        },
        "id": "IiiYOtVZfLmU",
        "outputId": "42c74a57-cdc3-49e3-9a51-84f658232fdc"
      },
      "source": [
        "train.describe() # Explore the training dataset"
      ],
      "execution_count": 5,
      "outputs": [
        {
          "output_type": "execute_result",
          "data": {
            "text/html": [
              "<div>\n",
              "<style scoped>\n",
              "    .dataframe tbody tr th:only-of-type {\n",
              "        vertical-align: middle;\n",
              "    }\n",
              "\n",
              "    .dataframe tbody tr th {\n",
              "        vertical-align: top;\n",
              "    }\n",
              "\n",
              "    .dataframe thead th {\n",
              "        text-align: right;\n",
              "    }\n",
              "</style>\n",
              "<table border=\"1\" class=\"dataframe\">\n",
              "  <thead>\n",
              "    <tr style=\"text-align: right;\">\n",
              "      <th></th>\n",
              "      <th>fips</th>\n",
              "      <th>PRECTOT</th>\n",
              "      <th>PS</th>\n",
              "      <th>QV2M</th>\n",
              "      <th>T2M</th>\n",
              "      <th>T2MDEW</th>\n",
              "      <th>T2MWET</th>\n",
              "      <th>T2M_MAX</th>\n",
              "      <th>T2M_MIN</th>\n",
              "      <th>T2M_RANGE</th>\n",
              "      <th>TS</th>\n",
              "      <th>WS10M</th>\n",
              "      <th>WS10M_MAX</th>\n",
              "      <th>WS10M_MIN</th>\n",
              "      <th>WS10M_RANGE</th>\n",
              "      <th>WS50M</th>\n",
              "      <th>WS50M_MAX</th>\n",
              "      <th>WS50M_MIN</th>\n",
              "      <th>WS50M_RANGE</th>\n",
              "      <th>score</th>\n",
              "    </tr>\n",
              "  </thead>\n",
              "  <tbody>\n",
              "    <tr>\n",
              "      <th>count</th>\n",
              "      <td>1.930068e+07</td>\n",
              "      <td>1.930068e+07</td>\n",
              "      <td>1.930068e+07</td>\n",
              "      <td>1.930068e+07</td>\n",
              "      <td>1.930068e+07</td>\n",
              "      <td>1.930068e+07</td>\n",
              "      <td>1.930068e+07</td>\n",
              "      <td>1.930068e+07</td>\n",
              "      <td>1.930068e+07</td>\n",
              "      <td>1.930068e+07</td>\n",
              "      <td>1.930068e+07</td>\n",
              "      <td>1.930068e+07</td>\n",
              "      <td>1.930068e+07</td>\n",
              "      <td>1.930068e+07</td>\n",
              "      <td>1.930068e+07</td>\n",
              "      <td>1.930068e+07</td>\n",
              "      <td>1.930068e+07</td>\n",
              "      <td>1.930068e+07</td>\n",
              "      <td>1.930068e+07</td>\n",
              "      <td>2.756796e+06</td>\n",
              "    </tr>\n",
              "    <tr>\n",
              "      <th>mean</th>\n",
              "      <td>3.067038e+04</td>\n",
              "      <td>2.644145e+00</td>\n",
              "      <td>9.665578e+01</td>\n",
              "      <td>7.816178e+00</td>\n",
              "      <td>1.280146e+01</td>\n",
              "      <td>6.951072e+00</td>\n",
              "      <td>6.986916e+00</td>\n",
              "      <td>1.868141e+01</td>\n",
              "      <td>7.411665e+00</td>\n",
              "      <td>1.126974e+01</td>\n",
              "      <td>1.288900e+01</td>\n",
              "      <td>3.564013e+00</td>\n",
              "      <td>5.195993e+00</td>\n",
              "      <td>1.928879e+00</td>\n",
              "      <td>3.267113e+00</td>\n",
              "      <td>5.525151e+00</td>\n",
              "      <td>7.811798e+00</td>\n",
              "      <td>3.130077e+00</td>\n",
              "      <td>4.681721e+00</td>\n",
              "      <td>8.245298e-01</td>\n",
              "    </tr>\n",
              "    <tr>\n",
              "      <th>std</th>\n",
              "      <td>1.497911e+04</td>\n",
              "      <td>6.226305e+00</td>\n",
              "      <td>5.447994e+00</td>\n",
              "      <td>4.694305e+00</td>\n",
              "      <td>1.092674e+01</td>\n",
              "      <td>1.014551e+01</td>\n",
              "      <td>1.009116e+01</td>\n",
              "      <td>1.154487e+01</td>\n",
              "      <td>1.057680e+01</td>\n",
              "      <td>4.005165e+00</td>\n",
              "      <td>1.114961e+01</td>\n",
              "      <td>1.862297e+00</td>\n",
              "      <td>2.627969e+00</td>\n",
              "      <td>1.351713e+00</td>\n",
              "      <td>1.947028e+00</td>\n",
              "      <td>2.321549e+00</td>\n",
              "      <td>2.861210e+00</td>\n",
              "      <td>2.122751e+00</td>\n",
              "      <td>2.171263e+00</td>\n",
              "      <td>1.223727e+00</td>\n",
              "    </tr>\n",
              "    <tr>\n",
              "      <th>min</th>\n",
              "      <td>1.001000e+03</td>\n",
              "      <td>0.000000e+00</td>\n",
              "      <td>6.612000e+01</td>\n",
              "      <td>1.200000e-01</td>\n",
              "      <td>-3.734000e+01</td>\n",
              "      <td>-3.770000e+01</td>\n",
              "      <td>-3.746000e+01</td>\n",
              "      <td>-3.220000e+01</td>\n",
              "      <td>-4.596000e+01</td>\n",
              "      <td>3.000000e-02</td>\n",
              "      <td>-3.823000e+01</td>\n",
              "      <td>2.500000e-01</td>\n",
              "      <td>5.400000e-01</td>\n",
              "      <td>0.000000e+00</td>\n",
              "      <td>1.600000e-01</td>\n",
              "      <td>4.000000e-01</td>\n",
              "      <td>7.000000e-01</td>\n",
              "      <td>0.000000e+00</td>\n",
              "      <td>3.200000e-01</td>\n",
              "      <td>0.000000e+00</td>\n",
              "    </tr>\n",
              "    <tr>\n",
              "      <th>25%</th>\n",
              "      <td>1.904450e+04</td>\n",
              "      <td>0.000000e+00</td>\n",
              "      <td>9.584000e+01</td>\n",
              "      <td>3.780000e+00</td>\n",
              "      <td>4.450000e+00</td>\n",
              "      <td>-9.600000e-01</td>\n",
              "      <td>-9.200000e-01</td>\n",
              "      <td>1.027000e+01</td>\n",
              "      <td>-7.000000e-01</td>\n",
              "      <td>8.420000e+00</td>\n",
              "      <td>4.340000e+00</td>\n",
              "      <td>2.140000e+00</td>\n",
              "      <td>3.110000e+00</td>\n",
              "      <td>9.600000e-01</td>\n",
              "      <td>1.810000e+00</td>\n",
              "      <td>3.790000e+00</td>\n",
              "      <td>5.680000e+00</td>\n",
              "      <td>1.450000e+00</td>\n",
              "      <td>3.130000e+00</td>\n",
              "      <td>0.000000e+00</td>\n",
              "    </tr>\n",
              "    <tr>\n",
              "      <th>50%</th>\n",
              "      <td>2.921200e+04</td>\n",
              "      <td>1.800000e-01</td>\n",
              "      <td>9.830000e+01</td>\n",
              "      <td>6.840000e+00</td>\n",
              "      <td>1.402000e+01</td>\n",
              "      <td>7.570000e+00</td>\n",
              "      <td>7.580000e+00</td>\n",
              "      <td>2.040000e+01</td>\n",
              "      <td>8.030000e+00</td>\n",
              "      <td>1.124000e+01</td>\n",
              "      <td>1.404000e+01</td>\n",
              "      <td>3.140000e+00</td>\n",
              "      <td>4.670000e+00</td>\n",
              "      <td>1.660000e+00</td>\n",
              "      <td>2.800000e+00</td>\n",
              "      <td>5.120000e+00</td>\n",
              "      <td>7.310000e+00</td>\n",
              "      <td>2.770000e+00</td>\n",
              "      <td>4.250000e+00</td>\n",
              "      <td>0.000000e+00</td>\n",
              "    </tr>\n",
              "    <tr>\n",
              "      <th>75%</th>\n",
              "      <td>4.600750e+04</td>\n",
              "      <td>2.160000e+00</td>\n",
              "      <td>9.996000e+01</td>\n",
              "      <td>1.135000e+01</td>\n",
              "      <td>2.188000e+01</td>\n",
              "      <td>1.552000e+01</td>\n",
              "      <td>1.552000e+01</td>\n",
              "      <td>2.787000e+01</td>\n",
              "      <td>1.614000e+01</td>\n",
              "      <td>1.408000e+01</td>\n",
              "      <td>2.207000e+01</td>\n",
              "      <td>4.600000e+00</td>\n",
              "      <td>6.750000e+00</td>\n",
              "      <td>2.580000e+00</td>\n",
              "      <td>4.250000e+00</td>\n",
              "      <td>6.880000e+00</td>\n",
              "      <td>9.460000e+00</td>\n",
              "      <td>4.410000e+00</td>\n",
              "      <td>5.770000e+00</td>\n",
              "      <td>1.189600e+00</td>\n",
              "    </tr>\n",
              "    <tr>\n",
              "      <th>max</th>\n",
              "      <td>5.604300e+04</td>\n",
              "      <td>2.345900e+02</td>\n",
              "      <td>1.043200e+02</td>\n",
              "      <td>2.292000e+01</td>\n",
              "      <td>4.139000e+01</td>\n",
              "      <td>2.755000e+01</td>\n",
              "      <td>2.755000e+01</td>\n",
              "      <td>4.991000e+01</td>\n",
              "      <td>3.380000e+01</td>\n",
              "      <td>3.461000e+01</td>\n",
              "      <td>4.385000e+01</td>\n",
              "      <td>2.369000e+01</td>\n",
              "      <td>3.628000e+01</td>\n",
              "      <td>1.720000e+01</td>\n",
              "      <td>2.825000e+01</td>\n",
              "      <td>2.835000e+01</td>\n",
              "      <td>4.273000e+01</td>\n",
              "      <td>2.087000e+01</td>\n",
              "      <td>3.243000e+01</td>\n",
              "      <td>5.000000e+00</td>\n",
              "    </tr>\n",
              "  </tbody>\n",
              "</table>\n",
              "</div>"
            ],
            "text/plain": [
              "               fips       PRECTOT  ...   WS50M_RANGE         score\n",
              "count  1.930068e+07  1.930068e+07  ...  1.930068e+07  2.756796e+06\n",
              "mean   3.067038e+04  2.644145e+00  ...  4.681721e+00  8.245298e-01\n",
              "std    1.497911e+04  6.226305e+00  ...  2.171263e+00  1.223727e+00\n",
              "min    1.001000e+03  0.000000e+00  ...  3.200000e-01  0.000000e+00\n",
              "25%    1.904450e+04  0.000000e+00  ...  3.130000e+00  0.000000e+00\n",
              "50%    2.921200e+04  1.800000e-01  ...  4.250000e+00  0.000000e+00\n",
              "75%    4.600750e+04  2.160000e+00  ...  5.770000e+00  1.189600e+00\n",
              "max    5.604300e+04  2.345900e+02  ...  3.243000e+01  5.000000e+00\n",
              "\n",
              "[8 rows x 20 columns]"
            ]
          },
          "metadata": {
            "tags": []
          },
          "execution_count": 5
        }
      ]
    },
    {
      "cell_type": "code",
      "metadata": {
        "id": "Lhs1fYEZsCrG"
      },
      "source": [
        "train.head(20)"
      ],
      "execution_count": null,
      "outputs": []
    },
    {
      "cell_type": "code",
      "metadata": {
        "id": "c4xRS9I0uhOA"
      },
      "source": [
        "train.tail(30)"
      ],
      "execution_count": null,
      "outputs": []
    },
    {
      "cell_type": "code",
      "metadata": {
        "id": "c7YYB2bnfrIp"
      },
      "source": [
        "train['score'].value_counts() # Determine the type of values in the 'score' column"
      ],
      "execution_count": null,
      "outputs": []
    },
    {
      "cell_type": "markdown",
      "metadata": {
        "id": "fBlt0kP_vdVm"
      },
      "source": [
        "# **This Dataset is too large as presented**\n",
        "\n",
        "\n",
        "*   It frequently crashes Google Colab when more computer-intensive tasks are performed;\n",
        "*   The data itself is messy (daily meteorogical observations but only weekly measurements of drought)\n",
        "\n",
        "**Conclusion:** Subset and only use one state (Pennsylvania) for Portfolio Project\n",
        "\n"
      ]
    },
    {
      "cell_type": "code",
      "metadata": {
        "id": "35Y3hAT5u56o"
      },
      "source": [
        "# Define wrangling function for training, validation, and test datasets\n",
        "def wrangle(df):\n",
        "  \n",
        "  # Isolate PA counties in the training dataset\n",
        "  condition = ((df['fips'] == 42001) | (df['fips'] == 42003) | \n",
        "             (df['fips'] == 42005) | (df['fips'] == 42007) | \n",
        "             (df['fips'] == 42009) | (df['fips'] == 42011) | \n",
        "             (df['fips'] == 42013) | (df['fips'] == 42015) | \n",
        "             (df['fips'] == 42017) | (df['fips'] == 42019) | \n",
        "             (df['fips'] == 42021) | (df['fips'] == 42023) | \n",
        "             (df['fips'] == 42025) | (df['fips'] == 42027) |\n",
        "             (df['fips'] == 42029)\t| (df['fips'] == 42031) |\n",
        "             (df['fips'] == 42033)\t| (df['fips'] == 42035) |\t\n",
        "             (df['fips'] == 42037)\t| (df['fips'] == 42039) |\n",
        "             (df['fips'] == 42041)\t| (df['fips'] == 42043) |\n",
        "             (df['fips'] == 42045)\t| (df['fips'] == 42047) |\n",
        "             (df['fips'] == 42049) | (df['fips'] == 42051) |\n",
        "             (df['fips'] == 42053) | (df['fips'] == 42055) |\n",
        "             (df['fips'] == 42057) | (df['fips'] == 42059) |\n",
        "             (df['fips'] == 42061) |\t(df['fips'] == 42063) |\t\n",
        "             (df['fips'] == 42065) |\t(df['fips'] == 42067) |\n",
        "             (df['fips'] == 42069)\t| (df['fips'] == 42071) |\t\n",
        "             (df['fips'] == 42073) |\t(df['fips'] == 42075) |\n",
        "             (df['fips'] == 42077) |\t(df['fips'] == 42079) |\n",
        "             (df['fips'] == 42081) |\t(df['fips'] == 42083) |\n",
        "             (df['fips'] == 42085) |\t(df['fips'] == 42087) | \n",
        "             (df['fips'] == 42089) | (df['fips'] == 42091) |\n",
        "             (df['fips'] == 42093)\t| (df['fips'] == 42095) |\n",
        "             (df['fips'] == 42097)\t| (df['fips'] == 42099) |\t\n",
        "             (df['fips'] == 42101)\t| (df['fips'] == 42103) |\n",
        "             (df['fips'] == 42105)\t| (df['fips'] == 42107) |\n",
        "             (df['fips'] == 42109)\t| (df['fips'] == 42111) |\n",
        "             (df['fips'] == 42113)\t| (df['fips'] == 42115) | \n",
        "             (df['fips'] == 42117) | (df['fips'] == 42119) |\n",
        "             (df['fips'] == 42121) | (df['fips'] == 42123) |\n",
        "             (df['fips'] == 42125)\t| (df['fips'] == 42127) |\n",
        "             (df['fips'] == 42129)\t| (df['fips'] == 42131) |\n",
        "             (df['fips'] == 42133))\n",
        "  \n",
        "  df = df[condition]\n",
        "   \n",
        "  return df"
      ],
      "execution_count": 6,
      "outputs": []
    },
    {
      "cell_type": "code",
      "metadata": {
        "id": "sdTOyJ4x4E1p"
      },
      "source": [
        "train_pa = wrangle(train)"
      ],
      "execution_count": 8,
      "outputs": []
    },
    {
      "cell_type": "code",
      "metadata": {
        "colab": {
          "base_uri": "https://localhost:8080/"
        },
        "id": "6z-47-5I4KFT",
        "outputId": "8aa41f74-e861-4813-ccfd-cf90a6a7bfb0"
      },
      "source": [
        "train_pa.shape"
      ],
      "execution_count": 9,
      "outputs": [
        {
          "output_type": "execute_result",
          "data": {
            "text/plain": [
              "(416070, 21)"
            ]
          },
          "metadata": {
            "tags": []
          },
          "execution_count": 9
        }
      ]
    },
    {
      "cell_type": "code",
      "metadata": {
        "colab": {
          "base_uri": "https://localhost:8080/",
          "height": 224
        },
        "id": "BORhgRqdgeaQ",
        "outputId": "4a355c57-0ab2-43ce-d2df-0f535c604b51"
      },
      "source": [
        "# Ingest soil data as dataframe\n",
        "soil = pd.read_csv('/content/drive/MyDrive/Colab Notebooks/Lambda DS/Unit 2/05.Portfolio Project/Drought Data/soil_data.csv')\n",
        "soil.head()"
      ],
      "execution_count": 10,
      "outputs": [
        {
          "output_type": "execute_result",
          "data": {
            "text/html": [
              "<div>\n",
              "<style scoped>\n",
              "    .dataframe tbody tr th:only-of-type {\n",
              "        vertical-align: middle;\n",
              "    }\n",
              "\n",
              "    .dataframe tbody tr th {\n",
              "        vertical-align: top;\n",
              "    }\n",
              "\n",
              "    .dataframe thead th {\n",
              "        text-align: right;\n",
              "    }\n",
              "</style>\n",
              "<table border=\"1\" class=\"dataframe\">\n",
              "  <thead>\n",
              "    <tr style=\"text-align: right;\">\n",
              "      <th></th>\n",
              "      <th>fips</th>\n",
              "      <th>lat</th>\n",
              "      <th>lon</th>\n",
              "      <th>elevation</th>\n",
              "      <th>slope1</th>\n",
              "      <th>slope2</th>\n",
              "      <th>slope3</th>\n",
              "      <th>slope4</th>\n",
              "      <th>slope5</th>\n",
              "      <th>slope6</th>\n",
              "      <th>slope7</th>\n",
              "      <th>slope8</th>\n",
              "      <th>aspectN</th>\n",
              "      <th>aspectE</th>\n",
              "      <th>aspectS</th>\n",
              "      <th>aspectW</th>\n",
              "      <th>aspectUnknown</th>\n",
              "      <th>WAT_LAND</th>\n",
              "      <th>NVG_LAND</th>\n",
              "      <th>URB_LAND</th>\n",
              "      <th>GRS_LAND</th>\n",
              "      <th>FOR_LAND</th>\n",
              "      <th>CULTRF_LAND</th>\n",
              "      <th>CULTIR_LAND</th>\n",
              "      <th>CULT_LAND</th>\n",
              "      <th>SQ1</th>\n",
              "      <th>SQ2</th>\n",
              "      <th>SQ3</th>\n",
              "      <th>SQ4</th>\n",
              "      <th>SQ5</th>\n",
              "      <th>SQ6</th>\n",
              "      <th>SQ7</th>\n",
              "    </tr>\n",
              "  </thead>\n",
              "  <tbody>\n",
              "    <tr>\n",
              "      <th>0</th>\n",
              "      <td>1001</td>\n",
              "      <td>32.536382</td>\n",
              "      <td>-86.644490</td>\n",
              "      <td>63</td>\n",
              "      <td>0.0419</td>\n",
              "      <td>0.2788</td>\n",
              "      <td>0.2984</td>\n",
              "      <td>0.2497</td>\n",
              "      <td>0.1142</td>\n",
              "      <td>0.0170</td>\n",
              "      <td>0.0000</td>\n",
              "      <td>0.0</td>\n",
              "      <td>0.1033</td>\n",
              "      <td>0.1859</td>\n",
              "      <td>0.2003</td>\n",
              "      <td>0.1898</td>\n",
              "      <td>0.3207</td>\n",
              "      <td>0.9974</td>\n",
              "      <td>27.940498</td>\n",
              "      <td>0.2889</td>\n",
              "      <td>2.750274</td>\n",
              "      <td>10.714703</td>\n",
              "      <td>56.293411</td>\n",
              "      <td>1.014811</td>\n",
              "      <td>57.308224</td>\n",
              "      <td>1</td>\n",
              "      <td>1</td>\n",
              "      <td>1</td>\n",
              "      <td>1</td>\n",
              "      <td>1</td>\n",
              "      <td>1</td>\n",
              "      <td>2</td>\n",
              "    </tr>\n",
              "    <tr>\n",
              "      <th>1</th>\n",
              "      <td>1005</td>\n",
              "      <td>31.870670</td>\n",
              "      <td>-85.405456</td>\n",
              "      <td>146</td>\n",
              "      <td>0.0158</td>\n",
              "      <td>0.1868</td>\n",
              "      <td>0.5441</td>\n",
              "      <td>0.2424</td>\n",
              "      <td>0.0106</td>\n",
              "      <td>0.0003</td>\n",
              "      <td>0.0000</td>\n",
              "      <td>0.0</td>\n",
              "      <td>0.1415</td>\n",
              "      <td>0.2379</td>\n",
              "      <td>0.2183</td>\n",
              "      <td>0.1997</td>\n",
              "      <td>0.2026</td>\n",
              "      <td>0.0000</td>\n",
              "      <td>0.000000</td>\n",
              "      <td>0.4146</td>\n",
              "      <td>2.225602</td>\n",
              "      <td>22.952839</td>\n",
              "      <td>72.578804</td>\n",
              "      <td>1.828159</td>\n",
              "      <td>74.406960</td>\n",
              "      <td>3</td>\n",
              "      <td>2</td>\n",
              "      <td>1</td>\n",
              "      <td>1</td>\n",
              "      <td>1</td>\n",
              "      <td>1</td>\n",
              "      <td>1</td>\n",
              "    </tr>\n",
              "    <tr>\n",
              "      <th>2</th>\n",
              "      <td>1003</td>\n",
              "      <td>30.659218</td>\n",
              "      <td>-87.746067</td>\n",
              "      <td>52</td>\n",
              "      <td>0.0746</td>\n",
              "      <td>0.4370</td>\n",
              "      <td>0.4415</td>\n",
              "      <td>0.0469</td>\n",
              "      <td>0.0000</td>\n",
              "      <td>0.0000</td>\n",
              "      <td>0.0000</td>\n",
              "      <td>0.0</td>\n",
              "      <td>0.1168</td>\n",
              "      <td>0.1386</td>\n",
              "      <td>0.1048</td>\n",
              "      <td>0.1282</td>\n",
              "      <td>0.5116</td>\n",
              "      <td>0.0000</td>\n",
              "      <td>0.000000</td>\n",
              "      <td>3.5010</td>\n",
              "      <td>4.972456</td>\n",
              "      <td>28.685991</td>\n",
              "      <td>59.843639</td>\n",
              "      <td>2.996914</td>\n",
              "      <td>62.840553</td>\n",
              "      <td>3</td>\n",
              "      <td>2</td>\n",
              "      <td>1</td>\n",
              "      <td>2</td>\n",
              "      <td>1</td>\n",
              "      <td>1</td>\n",
              "      <td>1</td>\n",
              "    </tr>\n",
              "    <tr>\n",
              "      <th>3</th>\n",
              "      <td>1007</td>\n",
              "      <td>33.015893</td>\n",
              "      <td>-87.127148</td>\n",
              "      <td>93</td>\n",
              "      <td>0.0144</td>\n",
              "      <td>0.1617</td>\n",
              "      <td>0.3714</td>\n",
              "      <td>0.3493</td>\n",
              "      <td>0.0898</td>\n",
              "      <td>0.0134</td>\n",
              "      <td>0.0000</td>\n",
              "      <td>0.0</td>\n",
              "      <td>0.1971</td>\n",
              "      <td>0.1885</td>\n",
              "      <td>0.2279</td>\n",
              "      <td>0.2104</td>\n",
              "      <td>0.1761</td>\n",
              "      <td>0.0000</td>\n",
              "      <td>0.000000</td>\n",
              "      <td>0.2283</td>\n",
              "      <td>8.674664</td>\n",
              "      <td>89.172112</td>\n",
              "      <td>1.916593</td>\n",
              "      <td>0.008330</td>\n",
              "      <td>1.924924</td>\n",
              "      <td>3</td>\n",
              "      <td>2</td>\n",
              "      <td>1</td>\n",
              "      <td>1</td>\n",
              "      <td>1</td>\n",
              "      <td>1</td>\n",
              "      <td>1</td>\n",
              "    </tr>\n",
              "    <tr>\n",
              "      <th>4</th>\n",
              "      <td>1009</td>\n",
              "      <td>33.977448</td>\n",
              "      <td>-86.567246</td>\n",
              "      <td>198</td>\n",
              "      <td>0.0050</td>\n",
              "      <td>0.0872</td>\n",
              "      <td>0.2799</td>\n",
              "      <td>0.3576</td>\n",
              "      <td>0.1477</td>\n",
              "      <td>0.1037</td>\n",
              "      <td>0.0189</td>\n",
              "      <td>0.0</td>\n",
              "      <td>0.2569</td>\n",
              "      <td>0.1503</td>\n",
              "      <td>0.2028</td>\n",
              "      <td>0.2978</td>\n",
              "      <td>0.0922</td>\n",
              "      <td>0.0000</td>\n",
              "      <td>0.000000</td>\n",
              "      <td>1.0037</td>\n",
              "      <td>8.606856</td>\n",
              "      <td>88.470047</td>\n",
              "      <td>1.891909</td>\n",
              "      <td>0.027488</td>\n",
              "      <td>1.919397</td>\n",
              "      <td>3</td>\n",
              "      <td>2</td>\n",
              "      <td>1</td>\n",
              "      <td>1</td>\n",
              "      <td>1</td>\n",
              "      <td>1</td>\n",
              "      <td>1</td>\n",
              "    </tr>\n",
              "  </tbody>\n",
              "</table>\n",
              "</div>"
            ],
            "text/plain": [
              "   fips        lat        lon  elevation  slope1  ...  SQ3  SQ4  SQ5  SQ6  SQ7\n",
              "0  1001  32.536382 -86.644490         63  0.0419  ...    1    1    1    1    2\n",
              "1  1005  31.870670 -85.405456        146  0.0158  ...    1    1    1    1    1\n",
              "2  1003  30.659218 -87.746067         52  0.0746  ...    1    2    1    1    1\n",
              "3  1007  33.015893 -87.127148         93  0.0144  ...    1    1    1    1    1\n",
              "4  1009  33.977448 -86.567246        198  0.0050  ...    1    1    1    1    1\n",
              "\n",
              "[5 rows x 32 columns]"
            ]
          },
          "metadata": {
            "tags": []
          },
          "execution_count": 10
        }
      ]
    },
    {
      "cell_type": "code",
      "metadata": {
        "colab": {
          "base_uri": "https://localhost:8080/"
        },
        "id": "6vEceEBAhJSd",
        "outputId": "f5ee50f2-4d41-45c5-8b90-c56f6512fc6d"
      },
      "source": [
        "soil.shape"
      ],
      "execution_count": 11,
      "outputs": [
        {
          "output_type": "execute_result",
          "data": {
            "text/plain": [
              "(3109, 32)"
            ]
          },
          "metadata": {
            "tags": []
          },
          "execution_count": 11
        }
      ]
    },
    {
      "cell_type": "code",
      "metadata": {
        "id": "G-kZwqiHhU8z"
      },
      "source": [
        "soil.isnull().sum() # No null values!"
      ],
      "execution_count": null,
      "outputs": []
    },
    {
      "cell_type": "code",
      "metadata": {
        "id": "Z6yqtaC04PLS"
      },
      "source": [
        "soil_pa = wrangle(soil)"
      ],
      "execution_count": 12,
      "outputs": []
    },
    {
      "cell_type": "code",
      "metadata": {
        "id": "E4KlDxXIp1KP"
      },
      "source": [
        "#soil_pa.drop(labels = ['lat', 'lon'], axis = 1, inplace = True) # Drop latitude and longtitude from Soil dataframe as likely useless features"
      ],
      "execution_count": null,
      "outputs": []
    },
    {
      "cell_type": "code",
      "metadata": {
        "id": "roCyqt59qPJw"
      },
      "source": [
        "train_pa_final = pd.merge(left=train_pa, right=soil_pa, how='left', on='fips') # Merge PA weather data with PA soil data"
      ],
      "execution_count": 13,
      "outputs": []
    },
    {
      "cell_type": "code",
      "metadata": {
        "id": "-MoCq1Bj3G9D"
      },
      "source": [
        "# Set date to DateTime format and use it as index\n",
        "\n",
        "train_pa_final['date']= pd.to_datetime(train_pa_final['date'])\n",
        "train_pa_final = train_pa_final.set_index('date')"
      ],
      "execution_count": 14,
      "outputs": []
    },
    {
      "cell_type": "code",
      "metadata": {
        "colab": {
          "base_uri": "https://localhost:8080/",
          "height": 340
        },
        "id": "4lUGJ4L_q_gQ",
        "outputId": "5695bb12-4585-4b09-a626-ccc9a324bd71"
      },
      "source": [
        "train_pa_final.head()"
      ],
      "execution_count": 15,
      "outputs": [
        {
          "output_type": "execute_result",
          "data": {
            "text/html": [
              "<div>\n",
              "<style scoped>\n",
              "    .dataframe tbody tr th:only-of-type {\n",
              "        vertical-align: middle;\n",
              "    }\n",
              "\n",
              "    .dataframe tbody tr th {\n",
              "        vertical-align: top;\n",
              "    }\n",
              "\n",
              "    .dataframe thead th {\n",
              "        text-align: right;\n",
              "    }\n",
              "</style>\n",
              "<table border=\"1\" class=\"dataframe\">\n",
              "  <thead>\n",
              "    <tr style=\"text-align: right;\">\n",
              "      <th></th>\n",
              "      <th>fips</th>\n",
              "      <th>PRECTOT</th>\n",
              "      <th>PS</th>\n",
              "      <th>QV2M</th>\n",
              "      <th>T2M</th>\n",
              "      <th>T2MDEW</th>\n",
              "      <th>T2MWET</th>\n",
              "      <th>T2M_MAX</th>\n",
              "      <th>T2M_MIN</th>\n",
              "      <th>T2M_RANGE</th>\n",
              "      <th>TS</th>\n",
              "      <th>WS10M</th>\n",
              "      <th>WS10M_MAX</th>\n",
              "      <th>WS10M_MIN</th>\n",
              "      <th>WS10M_RANGE</th>\n",
              "      <th>WS50M</th>\n",
              "      <th>WS50M_MAX</th>\n",
              "      <th>WS50M_MIN</th>\n",
              "      <th>WS50M_RANGE</th>\n",
              "      <th>score</th>\n",
              "      <th>lat</th>\n",
              "      <th>lon</th>\n",
              "      <th>elevation</th>\n",
              "      <th>slope1</th>\n",
              "      <th>slope2</th>\n",
              "      <th>slope3</th>\n",
              "      <th>slope4</th>\n",
              "      <th>slope5</th>\n",
              "      <th>slope6</th>\n",
              "      <th>slope7</th>\n",
              "      <th>slope8</th>\n",
              "      <th>aspectN</th>\n",
              "      <th>aspectE</th>\n",
              "      <th>aspectS</th>\n",
              "      <th>aspectW</th>\n",
              "      <th>aspectUnknown</th>\n",
              "      <th>WAT_LAND</th>\n",
              "      <th>NVG_LAND</th>\n",
              "      <th>URB_LAND</th>\n",
              "      <th>GRS_LAND</th>\n",
              "      <th>FOR_LAND</th>\n",
              "      <th>CULTRF_LAND</th>\n",
              "      <th>CULTIR_LAND</th>\n",
              "      <th>CULT_LAND</th>\n",
              "      <th>SQ1</th>\n",
              "      <th>SQ2</th>\n",
              "      <th>SQ3</th>\n",
              "      <th>SQ4</th>\n",
              "      <th>SQ5</th>\n",
              "      <th>SQ6</th>\n",
              "      <th>SQ7</th>\n",
              "    </tr>\n",
              "    <tr>\n",
              "      <th>date</th>\n",
              "      <th></th>\n",
              "      <th></th>\n",
              "      <th></th>\n",
              "      <th></th>\n",
              "      <th></th>\n",
              "      <th></th>\n",
              "      <th></th>\n",
              "      <th></th>\n",
              "      <th></th>\n",
              "      <th></th>\n",
              "      <th></th>\n",
              "      <th></th>\n",
              "      <th></th>\n",
              "      <th></th>\n",
              "      <th></th>\n",
              "      <th></th>\n",
              "      <th></th>\n",
              "      <th></th>\n",
              "      <th></th>\n",
              "      <th></th>\n",
              "      <th></th>\n",
              "      <th></th>\n",
              "      <th></th>\n",
              "      <th></th>\n",
              "      <th></th>\n",
              "      <th></th>\n",
              "      <th></th>\n",
              "      <th></th>\n",
              "      <th></th>\n",
              "      <th></th>\n",
              "      <th></th>\n",
              "      <th></th>\n",
              "      <th></th>\n",
              "      <th></th>\n",
              "      <th></th>\n",
              "      <th></th>\n",
              "      <th></th>\n",
              "      <th></th>\n",
              "      <th></th>\n",
              "      <th></th>\n",
              "      <th></th>\n",
              "      <th></th>\n",
              "      <th></th>\n",
              "      <th></th>\n",
              "      <th></th>\n",
              "      <th></th>\n",
              "      <th></th>\n",
              "      <th></th>\n",
              "      <th></th>\n",
              "      <th></th>\n",
              "      <th></th>\n",
              "    </tr>\n",
              "  </thead>\n",
              "  <tbody>\n",
              "    <tr>\n",
              "      <th>2000-01-01</th>\n",
              "      <td>42001</td>\n",
              "      <td>0.00</td>\n",
              "      <td>99.76</td>\n",
              "      <td>4.06</td>\n",
              "      <td>1.22</td>\n",
              "      <td>0.73</td>\n",
              "      <td>0.73</td>\n",
              "      <td>7.14</td>\n",
              "      <td>-2.04</td>\n",
              "      <td>9.18</td>\n",
              "      <td>0.61</td>\n",
              "      <td>2.14</td>\n",
              "      <td>3.25</td>\n",
              "      <td>0.99</td>\n",
              "      <td>2.26</td>\n",
              "      <td>3.78</td>\n",
              "      <td>6.96</td>\n",
              "      <td>1.43</td>\n",
              "      <td>5.53</td>\n",
              "      <td>NaN</td>\n",
              "      <td>39.869471</td>\n",
              "      <td>-77.21773</td>\n",
              "      <td>157</td>\n",
              "      <td>0.0202</td>\n",
              "      <td>0.2971</td>\n",
              "      <td>0.4955</td>\n",
              "      <td>0.1564</td>\n",
              "      <td>0.023</td>\n",
              "      <td>0.0078</td>\n",
              "      <td>0.0</td>\n",
              "      <td>0.0</td>\n",
              "      <td>0.1181</td>\n",
              "      <td>0.1949</td>\n",
              "      <td>0.1443</td>\n",
              "      <td>0.2254</td>\n",
              "      <td>0.3173</td>\n",
              "      <td>0.0</td>\n",
              "      <td>0.0</td>\n",
              "      <td>0.9597</td>\n",
              "      <td>4.079156</td>\n",
              "      <td>33.219521</td>\n",
              "      <td>61.358013</td>\n",
              "      <td>0.38361</td>\n",
              "      <td>61.741623</td>\n",
              "      <td>1</td>\n",
              "      <td>1</td>\n",
              "      <td>1</td>\n",
              "      <td>1</td>\n",
              "      <td>1</td>\n",
              "      <td>1</td>\n",
              "      <td>1</td>\n",
              "    </tr>\n",
              "    <tr>\n",
              "      <th>2000-01-02</th>\n",
              "      <td>42001</td>\n",
              "      <td>0.18</td>\n",
              "      <td>99.41</td>\n",
              "      <td>5.71</td>\n",
              "      <td>5.02</td>\n",
              "      <td>5.27</td>\n",
              "      <td>5.27</td>\n",
              "      <td>9.35</td>\n",
              "      <td>1.20</td>\n",
              "      <td>8.16</td>\n",
              "      <td>4.56</td>\n",
              "      <td>3.42</td>\n",
              "      <td>4.50</td>\n",
              "      <td>2.52</td>\n",
              "      <td>1.98</td>\n",
              "      <td>6.15</td>\n",
              "      <td>9.00</td>\n",
              "      <td>3.75</td>\n",
              "      <td>5.25</td>\n",
              "      <td>NaN</td>\n",
              "      <td>39.869471</td>\n",
              "      <td>-77.21773</td>\n",
              "      <td>157</td>\n",
              "      <td>0.0202</td>\n",
              "      <td>0.2971</td>\n",
              "      <td>0.4955</td>\n",
              "      <td>0.1564</td>\n",
              "      <td>0.023</td>\n",
              "      <td>0.0078</td>\n",
              "      <td>0.0</td>\n",
              "      <td>0.0</td>\n",
              "      <td>0.1181</td>\n",
              "      <td>0.1949</td>\n",
              "      <td>0.1443</td>\n",
              "      <td>0.2254</td>\n",
              "      <td>0.3173</td>\n",
              "      <td>0.0</td>\n",
              "      <td>0.0</td>\n",
              "      <td>0.9597</td>\n",
              "      <td>4.079156</td>\n",
              "      <td>33.219521</td>\n",
              "      <td>61.358013</td>\n",
              "      <td>0.38361</td>\n",
              "      <td>61.741623</td>\n",
              "      <td>1</td>\n",
              "      <td>1</td>\n",
              "      <td>1</td>\n",
              "      <td>1</td>\n",
              "      <td>1</td>\n",
              "      <td>1</td>\n",
              "      <td>1</td>\n",
              "    </tr>\n",
              "    <tr>\n",
              "      <th>2000-01-03</th>\n",
              "      <td>42001</td>\n",
              "      <td>0.37</td>\n",
              "      <td>99.20</td>\n",
              "      <td>7.49</td>\n",
              "      <td>9.46</td>\n",
              "      <td>9.44</td>\n",
              "      <td>9.44</td>\n",
              "      <td>13.50</td>\n",
              "      <td>6.32</td>\n",
              "      <td>7.18</td>\n",
              "      <td>8.88</td>\n",
              "      <td>3.11</td>\n",
              "      <td>4.93</td>\n",
              "      <td>1.89</td>\n",
              "      <td>3.05</td>\n",
              "      <td>5.95</td>\n",
              "      <td>8.87</td>\n",
              "      <td>2.24</td>\n",
              "      <td>6.63</td>\n",
              "      <td>NaN</td>\n",
              "      <td>39.869471</td>\n",
              "      <td>-77.21773</td>\n",
              "      <td>157</td>\n",
              "      <td>0.0202</td>\n",
              "      <td>0.2971</td>\n",
              "      <td>0.4955</td>\n",
              "      <td>0.1564</td>\n",
              "      <td>0.023</td>\n",
              "      <td>0.0078</td>\n",
              "      <td>0.0</td>\n",
              "      <td>0.0</td>\n",
              "      <td>0.1181</td>\n",
              "      <td>0.1949</td>\n",
              "      <td>0.1443</td>\n",
              "      <td>0.2254</td>\n",
              "      <td>0.3173</td>\n",
              "      <td>0.0</td>\n",
              "      <td>0.0</td>\n",
              "      <td>0.9597</td>\n",
              "      <td>4.079156</td>\n",
              "      <td>33.219521</td>\n",
              "      <td>61.358013</td>\n",
              "      <td>0.38361</td>\n",
              "      <td>61.741623</td>\n",
              "      <td>1</td>\n",
              "      <td>1</td>\n",
              "      <td>1</td>\n",
              "      <td>1</td>\n",
              "      <td>1</td>\n",
              "      <td>1</td>\n",
              "      <td>1</td>\n",
              "    </tr>\n",
              "    <tr>\n",
              "      <th>2000-01-04</th>\n",
              "      <td>42001</td>\n",
              "      <td>8.25</td>\n",
              "      <td>98.29</td>\n",
              "      <td>7.68</td>\n",
              "      <td>10.13</td>\n",
              "      <td>9.17</td>\n",
              "      <td>9.18</td>\n",
              "      <td>14.81</td>\n",
              "      <td>1.72</td>\n",
              "      <td>13.09</td>\n",
              "      <td>9.54</td>\n",
              "      <td>5.51</td>\n",
              "      <td>7.29</td>\n",
              "      <td>4.55</td>\n",
              "      <td>2.74</td>\n",
              "      <td>8.98</td>\n",
              "      <td>11.08</td>\n",
              "      <td>7.45</td>\n",
              "      <td>3.63</td>\n",
              "      <td>0.0</td>\n",
              "      <td>39.869471</td>\n",
              "      <td>-77.21773</td>\n",
              "      <td>157</td>\n",
              "      <td>0.0202</td>\n",
              "      <td>0.2971</td>\n",
              "      <td>0.4955</td>\n",
              "      <td>0.1564</td>\n",
              "      <td>0.023</td>\n",
              "      <td>0.0078</td>\n",
              "      <td>0.0</td>\n",
              "      <td>0.0</td>\n",
              "      <td>0.1181</td>\n",
              "      <td>0.1949</td>\n",
              "      <td>0.1443</td>\n",
              "      <td>0.2254</td>\n",
              "      <td>0.3173</td>\n",
              "      <td>0.0</td>\n",
              "      <td>0.0</td>\n",
              "      <td>0.9597</td>\n",
              "      <td>4.079156</td>\n",
              "      <td>33.219521</td>\n",
              "      <td>61.358013</td>\n",
              "      <td>0.38361</td>\n",
              "      <td>61.741623</td>\n",
              "      <td>1</td>\n",
              "      <td>1</td>\n",
              "      <td>1</td>\n",
              "      <td>1</td>\n",
              "      <td>1</td>\n",
              "      <td>1</td>\n",
              "      <td>1</td>\n",
              "    </tr>\n",
              "    <tr>\n",
              "      <th>2000-01-05</th>\n",
              "      <td>42001</td>\n",
              "      <td>0.34</td>\n",
              "      <td>99.78</td>\n",
              "      <td>2.67</td>\n",
              "      <td>-0.32</td>\n",
              "      <td>-4.76</td>\n",
              "      <td>-4.69</td>\n",
              "      <td>3.43</td>\n",
              "      <td>-3.22</td>\n",
              "      <td>6.64</td>\n",
              "      <td>-0.86</td>\n",
              "      <td>4.52</td>\n",
              "      <td>7.04</td>\n",
              "      <td>1.16</td>\n",
              "      <td>5.88</td>\n",
              "      <td>7.08</td>\n",
              "      <td>9.72</td>\n",
              "      <td>1.78</td>\n",
              "      <td>7.94</td>\n",
              "      <td>NaN</td>\n",
              "      <td>39.869471</td>\n",
              "      <td>-77.21773</td>\n",
              "      <td>157</td>\n",
              "      <td>0.0202</td>\n",
              "      <td>0.2971</td>\n",
              "      <td>0.4955</td>\n",
              "      <td>0.1564</td>\n",
              "      <td>0.023</td>\n",
              "      <td>0.0078</td>\n",
              "      <td>0.0</td>\n",
              "      <td>0.0</td>\n",
              "      <td>0.1181</td>\n",
              "      <td>0.1949</td>\n",
              "      <td>0.1443</td>\n",
              "      <td>0.2254</td>\n",
              "      <td>0.3173</td>\n",
              "      <td>0.0</td>\n",
              "      <td>0.0</td>\n",
              "      <td>0.9597</td>\n",
              "      <td>4.079156</td>\n",
              "      <td>33.219521</td>\n",
              "      <td>61.358013</td>\n",
              "      <td>0.38361</td>\n",
              "      <td>61.741623</td>\n",
              "      <td>1</td>\n",
              "      <td>1</td>\n",
              "      <td>1</td>\n",
              "      <td>1</td>\n",
              "      <td>1</td>\n",
              "      <td>1</td>\n",
              "      <td>1</td>\n",
              "    </tr>\n",
              "  </tbody>\n",
              "</table>\n",
              "</div>"
            ],
            "text/plain": [
              "             fips  PRECTOT     PS  QV2M    T2M  ...  SQ3  SQ4  SQ5  SQ6  SQ7\n",
              "date                                            ...                         \n",
              "2000-01-01  42001     0.00  99.76  4.06   1.22  ...    1    1    1    1    1\n",
              "2000-01-02  42001     0.18  99.41  5.71   5.02  ...    1    1    1    1    1\n",
              "2000-01-03  42001     0.37  99.20  7.49   9.46  ...    1    1    1    1    1\n",
              "2000-01-04  42001     8.25  98.29  7.68  10.13  ...    1    1    1    1    1\n",
              "2000-01-05  42001     0.34  99.78  2.67  -0.32  ...    1    1    1    1    1\n",
              "\n",
              "[5 rows x 51 columns]"
            ]
          },
          "metadata": {
            "tags": []
          },
          "execution_count": 15
        }
      ]
    },
    {
      "cell_type": "code",
      "metadata": {
        "colab": {
          "base_uri": "https://localhost:8080/"
        },
        "id": "vQNxeOlTCmWW",
        "outputId": "a8e7edcd-0caf-4b1c-e7e3-b59f9bf21af5"
      },
      "source": [
        "train_pa_final.shape"
      ],
      "execution_count": 16,
      "outputs": [
        {
          "output_type": "execute_result",
          "data": {
            "text/plain": [
              "(416070, 51)"
            ]
          },
          "metadata": {
            "tags": []
          },
          "execution_count": 16
        }
      ]
    },
    {
      "cell_type": "markdown",
      "metadata": {
        "id": "F-JInOROgXz5"
      },
      "source": [
        "**Target Column:** 'score' because that is where the drought condition is recorded"
      ]
    },
    {
      "cell_type": "code",
      "metadata": {
        "id": "5iLjVGp2gXgP",
        "colab": {
          "base_uri": "https://localhost:8080/",
          "height": 296
        },
        "outputId": "f6538d15-905e-4393-a459-c5dd1c491728"
      },
      "source": [
        "import seaborn as sns\n",
        "\n",
        "sns.histplot(train_pa_final['score'], bins=20)"
      ],
      "execution_count": 17,
      "outputs": [
        {
          "output_type": "execute_result",
          "data": {
            "text/plain": [
              "<matplotlib.axes._subplots.AxesSubplot at 0x7f9cd204d1d0>"
            ]
          },
          "metadata": {
            "tags": []
          },
          "execution_count": 17
        },
        {
          "output_type": "display_data",
          "data": {
            "image/png": "[encoded data removed]",
            "text/plain": [
              "<Figure size 432x288 with 1 Axes>"
            ]
          },
          "metadata": {
            "tags": [],
            "needs_background": "light"
          }
        }
      ]
    },
    {
      "cell_type": "markdown",
      "metadata": {
        "id": "2QaXlNOb5npK"
      },
      "source": [
        "Upon further review, this could be treated as a regression or a classification problem. I plan on treating it as a classification problem with the following categories:\n",
        "\n",
        "*   'None' (score == 0.0)\n",
        "*   'Abnormal (D0)' (0.0 < score <= 1.0)\n",
        "*   'Moderate (D1)' (1.0 < score <= 2.0)\n",
        "*   'Severe (D2)' (2.0 < score <= 3.0)\n",
        "*   'Extreme (D3)' (3.0 < score <= 4.0)\n",
        "*   'Exceptional (D4)' (4.0 < score <= 5.0)\n",
        "\n",
        "Before updating the classification values, the NaNs in the 'score' columns will need to be imputed. This is due to the fact that the meteorogical data is recorded every day but the drought data is recorded every week.\n",
        "\n"
      ]
    },
    {
      "cell_type": "markdown",
      "metadata": {
        "id": "vzpnGDFQ7iOt"
      },
      "source": [
        "**Evaluation metric:**\n",
        "Because the majority class frequency is much lower than 50%, accuracy will not be a good evaluation metric as it could be misleading. \n",
        "I plan to rely on ROCAUC as the evaluation metric and, in addition, plan to plot the confusion matrix and calculate the precision/recall for the different drought categories."
      ]
    },
    {
      "cell_type": "markdown",
      "metadata": {
        "id": "9XsjOnHTBnZH"
      },
      "source": [
        "**Train/Validate/Test**\n",
        "\n",
        "The split is time-based and was created by the Kaggle dataset author. The split is as follows:\n",
        "\n",
        "Train: Jan. 1, 2000 to Dec. 31, 2016\n",
        "Val: Jan. 1, 2017 to Dec. 31, 2018\n",
        "Test: Jan. 1, 2019 to Dec. 31, 2020"
      ]
    },
    {
      "cell_type": "code",
      "metadata": {
        "colab": {
          "base_uri": "https://localhost:8080/"
        },
        "id": "Px1X5LOiBsZu",
        "outputId": "c3f3a95e-b897-4abe-8dde-4bb35c0f6b48"
      },
      "source": [
        "val = pd.read_csv('/content/drive/MyDrive/Colab Notebooks/Lambda DS/Unit 2/05.Portfolio Project/Drought Data/validation_timeseries/validation_timeseries.csv')\n",
        "val.shape"
      ],
      "execution_count": 18,
      "outputs": [
        {
          "output_type": "execute_result",
          "data": {
            "text/plain": [
              "(2268840, 21)"
            ]
          },
          "metadata": {
            "tags": []
          },
          "execution_count": 18
        }
      ]
    },
    {
      "cell_type": "code",
      "metadata": {
        "id": "q52YruSdB-h_"
      },
      "source": [
        "val_pa = wrangle(val) # Apply wrangle function to isolate Pennsylvania observations in the validation dataset"
      ],
      "execution_count": 19,
      "outputs": []
    },
    {
      "cell_type": "code",
      "metadata": {
        "id": "K7Z3cO4yCF21"
      },
      "source": [
        "val_pa_final = pd.merge(left=val_pa, right=soil_pa, how='left', on='fips') # Merge with Soil_PA dataset"
      ],
      "execution_count": 20,
      "outputs": []
    },
    {
      "cell_type": "code",
      "metadata": {
        "id": "mTGpSACA3zY-"
      },
      "source": [
        "# Set date to DateTime format and use it as index\n",
        "\n",
        "val_pa_final['date']= pd.to_datetime(val_pa_final['date'])\n",
        "val_pa_final = val_pa_final.set_index('date')"
      ],
      "execution_count": 21,
      "outputs": []
    },
    {
      "cell_type": "code",
      "metadata": {
        "colab": {
          "base_uri": "https://localhost:8080/"
        },
        "id": "l3P3HwNdCUvY",
        "outputId": "60bc1677-a830-4932-8511-be5bae2126b4"
      },
      "source": [
        "val_pa_final.shape"
      ],
      "execution_count": 22,
      "outputs": [
        {
          "output_type": "execute_result",
          "data": {
            "text/plain": [
              "(48910, 51)"
            ]
          },
          "metadata": {
            "tags": []
          },
          "execution_count": 22
        }
      ]
    },
    {
      "cell_type": "code",
      "metadata": {
        "colab": {
          "base_uri": "https://localhost:8080/"
        },
        "id": "eHVtu9cICu9X",
        "outputId": "2a50f1a4-fc27-41c3-a59d-738decb8fbd7"
      },
      "source": [
        "test = pd.read_csv('/content/drive/MyDrive/Colab Notebooks/Lambda DS/Unit 2/05.Portfolio Project/Drought Data/test_timeseries/test_timeseries.csv')\n",
        "test.shape"
      ],
      "execution_count": 23,
      "outputs": [
        {
          "output_type": "execute_result",
          "data": {
            "text/plain": [
              "(2271948, 21)"
            ]
          },
          "metadata": {
            "tags": []
          },
          "execution_count": 23
        }
      ]
    },
    {
      "cell_type": "code",
      "metadata": {
        "id": "utbh4rfEC6RF"
      },
      "source": [
        "test_pa = wrangle(test) # Apply wrangle function to isolate Pennsylvania observations in the test dataset"
      ],
      "execution_count": 24,
      "outputs": []
    },
    {
      "cell_type": "code",
      "metadata": {
        "id": "g8rN6zzGDAtD"
      },
      "source": [
        "test_pa_final = pd.merge(left=test_pa, right=soil_pa, how='left', on='fips') # Merge with Soil_PA dataset"
      ],
      "execution_count": 25,
      "outputs": []
    },
    {
      "cell_type": "code",
      "metadata": {
        "id": "MChbCoFN397y"
      },
      "source": [
        "# Set date to DateTime format and use it as index\n",
        "\n",
        "test_pa_final['date']= pd.to_datetime(test_pa_final['date'])\n",
        "test_pa_final = test_pa_final.set_index('date')"
      ],
      "execution_count": 26,
      "outputs": []
    },
    {
      "cell_type": "code",
      "metadata": {
        "colab": {
          "base_uri": "https://localhost:8080/"
        },
        "id": "utDAHSdlDJyu",
        "outputId": "50236cd1-fe0f-4b06-f688-1ab31a99d41a"
      },
      "source": [
        "test_pa_final.shape"
      ],
      "execution_count": 27,
      "outputs": [
        {
          "output_type": "execute_result",
          "data": {
            "text/plain": [
              "(48977, 51)"
            ]
          },
          "metadata": {
            "tags": []
          },
          "execution_count": 27
        }
      ]
    },
    {
      "cell_type": "code",
      "metadata": {
        "id": "kvlDF40I8D3C"
      },
      "source": [
        "# Define function to fill the NaNs in the target vector using the interpolate method (with default options for linear interpolation)\n",
        "\n",
        "def target_interpolate(y):\n",
        "  y = y.interpolate(inplace = True)\n",
        "\n",
        "  return y"
      ],
      "execution_count": 28,
      "outputs": []
    },
    {
      "cell_type": "code",
      "metadata": {
        "id": "I__rV0zn-YEA"
      },
      "source": [
        "target = 'score'\n",
        "y_train = train_pa_final[target] # Create target vector for training dataset\n",
        "y_val = val_pa_final[target] # Create target vector for validation dataset\n",
        "y_test = test_pa_final[target] # Create target vector for test dataset"
      ],
      "execution_count": 29,
      "outputs": []
    },
    {
      "cell_type": "code",
      "metadata": {
        "id": "p5vv0d0O-mqa"
      },
      "source": [
        "target_interpolate(y_train) # Apply target_interpolate function to training dataset"
      ],
      "execution_count": 30,
      "outputs": []
    },
    {
      "cell_type": "code",
      "metadata": {
        "id": "ec1lHBtxt_1H"
      },
      "source": [
        "target_interpolate(y_val) # Apply target_interpolate function to validation dataset\n",
        "target_interpolate(y_test) # Apply target_interpolate function to test dataset"
      ],
      "execution_count": 31,
      "outputs": []
    },
    {
      "cell_type": "code",
      "metadata": {
        "id": "IBArNkBdqnQb"
      },
      "source": [
        "pd.set_option(\"display.max_rows\", 500000)"
      ],
      "execution_count": 36,
      "outputs": []
    },
    {
      "cell_type": "code",
      "metadata": {
        "colab": {
          "base_uri": "https://localhost:8080/"
        },
        "id": "KJDOgfv4qZ1Y",
        "outputId": "8d1c6810-23d7-44ef-95e4-f64e88bf7c90"
      },
      "source": [
        "# Manually replace first 3 NaN values in y_train (because those values were not interpolated by target_interpolate function)\n",
        "for i in range(0, 3):\n",
        "  y_train[i] = y_train[3]"
      ],
      "execution_count": 32,
      "outputs": [
        {
          "output_type": "stream",
          "text": [
            "/usr/local/lib/python3.7/dist-packages/ipykernel_launcher.py:3: SettingWithCopyWarning: \n",
            "A value is trying to be set on a copy of a slice from a DataFrame\n",
            "\n",
            "See the caveats in the documentation: https://pandas.pydata.org/pandas-docs/stable/user_guide/indexing.html#returning-a-view-versus-a-copy\n",
            "  This is separate from the ipykernel package so we can avoid doing imports until\n"
          ],
          "name": "stderr"
        }
      ]
    },
    {
      "cell_type": "code",
      "metadata": {
        "colab": {
          "base_uri": "https://localhost:8080/"
        },
        "id": "L2KSyf26xIpM",
        "outputId": "655e9e45-bd30-4291-c60d-7c2718813494"
      },
      "source": [
        "# Manually replace first 2 NaN values in y_val (because those values were not interpolated by target_interpolate function)\n",
        "for i in range(0, 2):\n",
        "  y_val[i] = y_val[2]"
      ],
      "execution_count": 33,
      "outputs": [
        {
          "output_type": "stream",
          "text": [
            "/usr/local/lib/python3.7/dist-packages/ipykernel_launcher.py:3: SettingWithCopyWarning: \n",
            "A value is trying to be set on a copy of a slice from a DataFrame\n",
            "\n",
            "See the caveats in the documentation: https://pandas.pydata.org/pandas-docs/stable/user_guide/indexing.html#returning-a-view-versus-a-copy\n",
            "  This is separate from the ipykernel package so we can avoid doing imports until\n"
          ],
          "name": "stderr"
        }
      ]
    },
    {
      "cell_type": "code",
      "metadata": {
        "id": "Lv5mYcfb9gLX"
      },
      "source": [
        "X_train = train_pa_final.drop(columns = target) # Create feature matrix for training dataset\n",
        "X_val = val_pa_final.drop(columns = target) # Create feature matrix for validation dataset\n",
        "X_test = test_pa_final.drop(columns = target) # Create feature matrix for training dataset"
      ],
      "execution_count": 34,
      "outputs": []
    },
    {
      "cell_type": "markdown",
      "metadata": {
        "id": "_uGniPWGLHrX"
      },
      "source": [
        "# Set up problem as a Regression problem using Random Forest Regressor"
      ]
    },
    {
      "cell_type": "code",
      "metadata": {
        "colab": {
          "base_uri": "https://localhost:8080/"
        },
        "id": "K4fpRDCIy23D",
        "outputId": "b48c7bc3-a689-4739-fcc0-059ede7f9613"
      },
      "source": [
        "# Calculate Baseline Score\n",
        "\n",
        "from sklearn.metrics import accuracy_score, r2_score\n",
        "\n",
        "majority_class = y_train.mode() # Determine the majority class for y_train using Mode\n",
        "\n",
        "y_pred = [majority_class] * len(y_train) # Assign the majority class to y_pred as as list of the same length as y_train\n",
        "\n",
        "baseline_acc = r2_score(y_train, y_pred) # Calculate the accuracy score\n",
        "\n",
        "print('Baseline Accuracy:', baseline_acc)"
      ],
      "execution_count": 40,
      "outputs": [
        {
          "output_type": "stream",
          "text": [
            "Baseline Accuracy: -0.2464039003325238\n"
          ],
          "name": "stdout"
        }
      ]
    },
    {
      "cell_type": "code",
      "metadata": {
        "colab": {
          "base_uri": "https://localhost:8080/"
        },
        "id": "39pBQw6IyOjO",
        "outputId": "dd50950f-0d3e-44c6-cda5-e471c64dc0fc"
      },
      "source": [
        "# Set up Random Forest Regressor\n",
        "from sklearn.ensemble import RandomForestRegressor\n",
        "\n",
        "model = RandomForestRegressor(n_jobs = -1, max_depth = 10, random_state = 42)\n",
        "\n",
        "model.fit(X_train, y_train)\n",
        "\n",
        "print('Training score is:', model.score(X_train, y_train))\n",
        "print('Validation score is:', model.score(X_val, y_val))"
      ],
      "execution_count": 41,
      "outputs": [
        {
          "output_type": "stream",
          "text": [
            "Training score is: 0.1875559885378114\n",
            "Validation score is: -0.015604862604430279\n"
          ],
          "name": "stdout"
        }
      ]
    },
    {
      "cell_type": "markdown",
      "metadata": {
        "id": "pubxnGIULOJB"
      },
      "source": [
        "# Set up problem as a Classification problem using Random Forest Classifier"
      ]
    },
    {
      "cell_type": "code",
      "metadata": {
        "id": "CYS_9Bjm_vu8"
      },
      "source": [
        "# Function to change target vector float values to drought categories\n",
        "\n",
        "def drought_cat(y):\n",
        "  none = (y == 0.0)\n",
        "  abnormal = (y > 0.0) & (y <= 1.0)\n",
        "  moderate = (y > 1.0) & (y <= 2.0)\n",
        "  severe = (y > 2.0) & (y <= 3.0)\n",
        "  extreme = (y > 3.0) & (y <= 4.0)\n",
        "  exceptional = (y > 4.0) & (y <= 5.0)\n",
        "\n",
        "  y.loc[none] = 'none'\n",
        "  y.loc[abnormal] = 'abnormal'\n",
        "  y.loc[moderate] = 'moderate'\n",
        "  y.loc[severe] = 'severe'\n",
        "  y.loc[extreme] = 'extreme'\n",
        "  y.loc[exceptional] = 'exceptional'\n",
        "\n",
        "  return y"
      ],
      "execution_count": 35,
      "outputs": []
    },
    {
      "cell_type": "code",
      "metadata": {
        "id": "nO5wY_vEB40h",
        "colab": {
          "base_uri": "https://localhost:8080/"
        },
        "outputId": "eea1d8f2-72fa-47c2-c199-e4b03370248b"
      },
      "source": [
        "drought_cat(y_train)"
      ],
      "execution_count": 36,
      "outputs": [
        {
          "output_type": "stream",
          "text": [
            "/usr/local/lib/python3.7/dist-packages/pandas/core/indexing.py:670: SettingWithCopyWarning: \n",
            "A value is trying to be set on a copy of a slice from a DataFrame\n",
            "\n",
            "See the caveats in the documentation: https://pandas.pydata.org/pandas-docs/stable/user_guide/indexing.html#returning-a-view-versus-a-copy\n",
            "  iloc._setitem_with_indexer(indexer, value)\n"
          ],
          "name": "stderr"
        },
        {
          "output_type": "execute_result",
          "data": {
            "text/plain": [
              "date\n",
              "2000-01-01        none\n",
              "2000-01-02        none\n",
              "2000-01-03        none\n",
              "2000-01-04        none\n",
              "2000-01-05        none\n",
              "                ...   \n",
              "2016-12-27    moderate\n",
              "2016-12-28    moderate\n",
              "2016-12-29    moderate\n",
              "2016-12-30    moderate\n",
              "2016-12-31    moderate\n",
              "Name: score, Length: 416070, dtype: object"
            ]
          },
          "metadata": {
            "tags": []
          },
          "execution_count": 36
        }
      ]
    },
    {
      "cell_type": "code",
      "metadata": {
        "id": "SgstUGfUJVyE",
        "colab": {
          "base_uri": "https://localhost:8080/"
        },
        "outputId": "89b73341-07f7-4075-fe1a-c5886ff0ba09"
      },
      "source": [
        "drought_cat(y_val)"
      ],
      "execution_count": 37,
      "outputs": [
        {
          "output_type": "stream",
          "text": [
            "/usr/local/lib/python3.7/dist-packages/pandas/core/indexing.py:670: SettingWithCopyWarning: \n",
            "A value is trying to be set on a copy of a slice from a DataFrame\n",
            "\n",
            "See the caveats in the documentation: https://pandas.pydata.org/pandas-docs/stable/user_guide/indexing.html#returning-a-view-versus-a-copy\n",
            "  iloc._setitem_with_indexer(indexer, value)\n"
          ],
          "name": "stderr"
        },
        {
          "output_type": "execute_result",
          "data": {
            "text/plain": [
              "date\n",
              "2017-01-01    moderate\n",
              "2017-01-02    moderate\n",
              "2017-01-03    moderate\n",
              "2017-01-04    moderate\n",
              "2017-01-05    moderate\n",
              "                ...   \n",
              "2018-12-27        none\n",
              "2018-12-28        none\n",
              "2018-12-29        none\n",
              "2018-12-30        none\n",
              "2018-12-31        none\n",
              "Name: score, Length: 48910, dtype: object"
            ]
          },
          "metadata": {
            "tags": []
          },
          "execution_count": 37
        }
      ]
    },
    {
      "cell_type": "code",
      "metadata": {
        "colab": {
          "base_uri": "https://localhost:8080/"
        },
        "id": "4R336U1KJeG3",
        "outputId": "b193920b-fb4e-4a79-b4aa-c463f614c2c1"
      },
      "source": [
        "# Calculate Baseline Score\n",
        "\n",
        "from sklearn.metrics import accuracy_score\n",
        "\n",
        "majority_class = y_train.mode() # Determine the majority class for y_train using Mode\n",
        "\n",
        "y_pred = [majority_class] * len(y_train) # Assign the majority class to y_pred as as list of the same length as y_train\n",
        "\n",
        "baseline_acc = accuracy_score(y_train, y_pred) # Calculate the accuracy score\n",
        "\n",
        "print('Baseline Accuracy:', baseline_acc)"
      ],
      "execution_count": 38,
      "outputs": [
        {
          "output_type": "stream",
          "text": [
            "Baseline Accuracy: 0.6791885980724397\n"
          ],
          "name": "stdout"
        }
      ]
    },
    {
      "cell_type": "code",
      "metadata": {
        "colab": {
          "base_uri": "https://localhost:8080/"
        },
        "id": "fqjRdwODJxlf",
        "outputId": "5348d811-1ba4-4284-9d20-a557f2d65837"
      },
      "source": [
        "# Set up Random Forest Classifier\n",
        "from sklearn.ensemble import RandomForestClassifier\n",
        "\n",
        "model_20t = RandomForestClassifier(n_jobs = -1, max_depth = 20, random_state = 42)\n",
        "\n",
        "model_20t.fit(X_train, y_train)\n",
        "\n",
        "print('Training score is:', model_20t.score(X_train, y_train))\n",
        "print('Validation score is:', model_20t.score(X_val, y_val))"
      ],
      "execution_count": 41,
      "outputs": [
        {
          "output_type": "stream",
          "text": [
            "Training score is: 0.8513038671377412\n",
            "Validation score is: 0.7647515845430383\n"
          ],
          "name": "stdout"
        }
      ]
    },
    {
      "cell_type": "code",
      "metadata": {
        "colab": {
          "base_uri": "https://localhost:8080/"
        },
        "id": "r_ND8lzpXReE",
        "outputId": "1266cf6b-3d3a-493e-c54e-fa2af41424fa"
      },
      "source": [
        "y_train.value_counts(normalize = True)"
      ],
      "execution_count": 61,
      "outputs": [
        {
          "output_type": "execute_result",
          "data": {
            "text/plain": [
              "none           0.679189\n",
              "abnormal       0.252265\n",
              "moderate       0.054366\n",
              "severe         0.010392\n",
              "extreme        0.003776\n",
              "exceptional    0.000012\n",
              "Name: score, dtype: float64"
            ]
          },
          "metadata": {
            "tags": []
          },
          "execution_count": 61
        }
      ]
    },
    {
      "cell_type": "code",
      "metadata": {
        "colab": {
          "base_uri": "https://localhost:8080/"
        },
        "id": "BXuBYvS3L_aq",
        "outputId": "99371e26-d94f-4038-8044-dd7ade4d15fb"
      },
      "source": [
        "# Set up Random Forest Classifier\n",
        "from sklearn.ensemble import RandomForestClassifier\n",
        "\n",
        "model = RandomForestClassifier(\n",
        "    n_jobs = -1, \n",
        "    max_depth = 15, \n",
        "    class_weight= {'none' : 1, 'abnormal' : 2.72, \n",
        "                   'moderate' : 13.6, 'severe' : 68, 'extreme' : 136, \n",
        "                   'exceptional' : 136},\n",
        "    random_state = 42\n",
        ")\n",
        "\n",
        "model.fit(X_train, y_train)\n",
        "\n",
        "print('Training score is:', model.score(X_train, y_train))\n",
        "print('Validation score is:', model.score(X_val, y_val))\n",
        "\n",
        "# Using class_weight=>much worse performance"
      ],
      "execution_count": 64,
      "outputs": [
        {
          "output_type": "stream",
          "text": [
            "Training score is: 0.6803422501021463\n",
            "Validation score is: 0.4905745246370885\n"
          ],
          "name": "stdout"
        }
      ]
    },
    {
      "cell_type": "code",
      "metadata": {
        "colab": {
          "base_uri": "https://localhost:8080/"
        },
        "id": "4l1KZKaKj6ox",
        "outputId": "dcd337da-825b-4343-ea8a-d10d0aef5f3b"
      },
      "source": [
        "# Set up Random Forest Classifier\n",
        "from sklearn.ensemble import RandomForestClassifier\n",
        "\n",
        "model = RandomForestClassifier(\n",
        "    n_jobs = -1, \n",
        "    max_depth = 15, \n",
        "    random_state = 42\n",
        ")\n",
        "\n",
        "model.fit(X_train, y_train)\n",
        "\n",
        "print('Training score is:', model.score(X_train, y_train))\n",
        "print('Validation score is:', model.score(X_val, y_val))"
      ],
      "execution_count": 65,
      "outputs": [
        {
          "output_type": "stream",
          "text": [
            "Training score is: 0.7412839185713942\n",
            "Validation score is: 0.7709875281128603\n"
          ],
          "name": "stdout"
        }
      ]
    },
    {
      "cell_type": "code",
      "metadata": {
        "colab": {
          "base_uri": "https://localhost:8080/",
          "height": 624
        },
        "id": "nOqGDBJCMXPN",
        "outputId": "8c7788a7-e080-47f5-bcca-62c42b40ead7"
      },
      "source": [
        "import matplotlib.pyplot as plt\n",
        "\n",
        "importances = pd.Series(model.feature_importances_, X_train.columns)\n",
        "\n",
        "n =20\n",
        "plt.figure(figsize = (10, n/2))\n",
        "plt.title(f'Top {n} Features for Random Forest Classifier Using All Features')\n",
        "importances.sort_values()[-n:].plot.barh()"
      ],
      "execution_count": 40,
      "outputs": [
        {
          "output_type": "execute_result",
          "data": {
            "text/plain": [
              "<matplotlib.axes._subplots.AxesSubplot at 0x7f9ccc5dc5d0>"
            ]
          },
          "metadata": {
            "tags": []
          },
          "execution_count": 40
        },
        {
          "output_type": "display_data",
          "data": {
            "image/png": "[encoded data removed]",
            "text/plain": [
              "<Figure size 720x720 with 1 Axes>"
            ]
          },
          "metadata": {
            "tags": [],
            "needs_background": "light"
          }
        }
      ]
    },
    {
      "cell_type": "code",
      "metadata": {
        "colab": {
          "base_uri": "https://localhost:8080/"
        },
        "id": "HP1O8-1Y-eqG",
        "outputId": "bb7b54d9-5fe7-48cd-a438-0379c63fe78d"
      },
      "source": [
        "#y_test = test_pa_final[target] # Create target vector for test dataset\n",
        "y_test"
      ],
      "execution_count": 45,
      "outputs": [
        {
          "output_type": "execute_result",
          "data": {
            "text/plain": [
              "date\n",
              "2019-01-01    0.000000\n",
              "2019-01-02    0.000000\n",
              "2019-01-03    0.000000\n",
              "2019-01-04    0.000000\n",
              "2019-01-05    0.000000\n",
              "                ...   \n",
              "2020-12-27    0.525986\n",
              "2020-12-28    0.408343\n",
              "2020-12-29    0.290700\n",
              "2020-12-30    0.290700\n",
              "2020-12-31    0.290700\n",
              "Name: score, Length: 48977, dtype: float64"
            ]
          },
          "metadata": {
            "tags": []
          },
          "execution_count": 45
        }
      ]
    },
    {
      "cell_type": "code",
      "metadata": {
        "id": "5tcY9IkN-f_s"
      },
      "source": [
        "target_interpolate(y_test) # Apply target_interpolate function to test dataset"
      ],
      "execution_count": 44,
      "outputs": []
    },
    {
      "cell_type": "code",
      "metadata": {
        "id": "x4XG6vc_OLK9",
        "colab": {
          "base_uri": "https://localhost:8080/"
        },
        "outputId": "c5a47726-8ffc-40ce-987c-0e7b64cd089b"
      },
      "source": [
        "drought_cat(y_test)"
      ],
      "execution_count": 46,
      "outputs": [
        {
          "output_type": "stream",
          "text": [
            "/usr/local/lib/python3.7/dist-packages/pandas/core/indexing.py:670: SettingWithCopyWarning: \n",
            "A value is trying to be set on a copy of a slice from a DataFrame\n",
            "\n",
            "See the caveats in the documentation: https://pandas.pydata.org/pandas-docs/stable/user_guide/indexing.html#returning-a-view-versus-a-copy\n",
            "  iloc._setitem_with_indexer(indexer, value)\n"
          ],
          "name": "stderr"
        },
        {
          "output_type": "execute_result",
          "data": {
            "text/plain": [
              "date\n",
              "2019-01-01        none\n",
              "2019-01-02        none\n",
              "2019-01-03        none\n",
              "2019-01-04        none\n",
              "2019-01-05        none\n",
              "                ...   \n",
              "2020-12-27    abnormal\n",
              "2020-12-28    abnormal\n",
              "2020-12-29    abnormal\n",
              "2020-12-30    abnormal\n",
              "2020-12-31    abnormal\n",
              "Name: score, Length: 48977, dtype: object"
            ]
          },
          "metadata": {
            "tags": []
          },
          "execution_count": 46
        }
      ]
    },
    {
      "cell_type": "code",
      "metadata": {
        "colab": {
          "base_uri": "https://localhost:8080/"
        },
        "id": "DKxiqwUbN67y",
        "outputId": "4ec03fdd-08c6-4628-9d04-04465a2fe371"
      },
      "source": [
        "print('Test score is:', model.score(X_test, y_test))"
      ],
      "execution_count": 47,
      "outputs": [
        {
          "output_type": "stream",
          "text": [
            "Test score is: 0.745023174142965\n"
          ],
          "name": "stdout"
        }
      ]
    },
    {
      "cell_type": "markdown",
      "metadata": {
        "id": "eBISYakbDFmS"
      },
      "source": [
        "# Permutation of Best Feature from Random Forest Model"
      ]
    },
    {
      "cell_type": "code",
      "metadata": {
        "colab": {
          "base_uri": "https://localhost:8080/"
        },
        "id": "zEbFXjsj_TUq",
        "outputId": "97b8157b-e27f-4a1d-868f-2eddee6e0e40"
      },
      "source": [
        "perm_feature = 'T2M_MAX'\n",
        "X_val[perm_feature].head(10)"
      ],
      "execution_count": 48,
      "outputs": [
        {
          "output_type": "execute_result",
          "data": {
            "text/plain": [
              "date\n",
              "2017-01-01    7.92\n",
              "2017-01-02    3.24\n",
              "2017-01-03    4.16\n",
              "2017-01-04    8.41\n",
              "2017-01-05   -1.55\n",
              "2017-01-06   -2.75\n",
              "2017-01-07   -5.34\n",
              "2017-01-08   -7.32\n",
              "2017-01-09   -4.95\n",
              "2017-01-10    0.69\n",
              "Name: T2M_MAX, dtype: float64"
            ]
          },
          "metadata": {
            "tags": []
          },
          "execution_count": 48
        }
      ]
    },
    {
      "cell_type": "code",
      "metadata": {
        "id": "qjJ1Ifo0DrHl"
      },
      "source": [
        "# Permute the valuation dataset with the T2M_MAX feature\n",
        "X_val_permuted = X_val.copy()\n",
        "X_val_permuted[perm_feature] = np.random.permutation(X_val[perm_feature])"
      ],
      "execution_count": 49,
      "outputs": []
    },
    {
      "cell_type": "code",
      "metadata": {
        "colab": {
          "base_uri": "https://localhost:8080/"
        },
        "id": "sslFsHPhEIba",
        "outputId": "86f42f15-6d5a-4ef4-cdd6-bb2312f30fb1"
      },
      "source": [
        "X_val_permuted[perm_feature].head(10) # Verify permutation result"
      ],
      "execution_count": 50,
      "outputs": [
        {
          "output_type": "execute_result",
          "data": {
            "text/plain": [
              "date\n",
              "2017-01-01     4.21\n",
              "2017-01-02     9.32\n",
              "2017-01-03    20.66\n",
              "2017-01-04    10.95\n",
              "2017-01-05     2.54\n",
              "2017-01-06    27.74\n",
              "2017-01-07    20.93\n",
              "2017-01-08    29.29\n",
              "2017-01-09    -0.98\n",
              "2017-01-10    13.02\n",
              "Name: T2M_MAX, dtype: float64"
            ]
          },
          "metadata": {
            "tags": []
          },
          "execution_count": 50
        }
      ]
    },
    {
      "cell_type": "code",
      "metadata": {
        "colab": {
          "base_uri": "https://localhost:8080/"
        },
        "id": "xVzkNyJ9EaY-",
        "outputId": "852ec420-0b00-44f5-b6f6-77a65f0c280f"
      },
      "source": [
        "# Calculate the score with the permutated feature to determine its true importance\n",
        "\n",
        "score_permuted= model.score(X_val_permuted, y_val)\n",
        "\n",
        "print(f'Validation Score with {perm_feature}:{model.score(X_val, y_val)}')\n",
        "print(f'Validation Score with {perm_feature} permuted:{score_permuted}')\n",
        "print(f'Importance of {perm_feature}:{(model.score(X_val, y_val)) - score_permuted}')"
      ],
      "execution_count": 51,
      "outputs": [
        {
          "output_type": "stream",
          "text": [
            "Validation Score with T2M_MAX:0.7709875281128603\n",
            "Validation Score with T2M_MAX permuted:0.772582294009405\n",
            "Importance of T2M_MAX:-0.0015947658965447253\n"
          ],
          "name": "stdout"
        }
      ]
    },
    {
      "cell_type": "markdown",
      "metadata": {
        "id": "uRI7jOJoQ5v0"
      },
      "source": [
        "# Use eli5 Library to Review Permutation Importance"
      ]
    },
    {
      "cell_type": "code",
      "metadata": {
        "colab": {
          "base_uri": "https://localhost:8080/"
        },
        "id": "IP7jXkBdR_6X",
        "outputId": "6cb7ca7e-5a9c-410b-c961-cb589d10c8e5"
      },
      "source": [
        "pip install eli5"
      ],
      "execution_count": 53,
      "outputs": [
        {
          "output_type": "stream",
          "text": [
            "Collecting eli5\n",
            "\u001b[?25l  Downloading https://files.pythonhosted.org/packages/d1/54/04cab6e1c0ae535bec93f795d8403fdf6caf66fa5a6512263202dbb14ea6/eli5-0.11.0-py2.py3-none-any.whl (106kB)\n",
            "\r\u001b[K     |███                             | 10kB 13.7MB/s eta 0:00:01\r\u001b[K     |██████▏                         | 20kB 16.4MB/s eta 0:00:01\r\u001b[K     |█████████▎                      | 30kB 9.5MB/s eta 0:00:01\r\u001b[K     |████████████▍                   | 40kB 9.1MB/s eta 0:00:01\r\u001b[K     |███████████████▌                | 51kB 8.3MB/s eta 0:00:01\r\u001b[K     |██████████████████▌             | 61kB 8.0MB/s eta 0:00:01\r\u001b[K     |█████████████████████▋          | 71kB 7.8MB/s eta 0:00:01\r\u001b[K     |████████████████████████▊       | 81kB 7.3MB/s eta 0:00:01\r\u001b[K     |███████████████████████████▉    | 92kB 7.5MB/s eta 0:00:01\r\u001b[K     |███████████████████████████████ | 102kB 8.1MB/s eta 0:00:01\r\u001b[K     |████████████████████████████████| 112kB 8.1MB/s \n",
            "\u001b[?25hRequirement already satisfied: scikit-learn>=0.20 in /usr/local/lib/python3.7/dist-packages (from eli5) (0.22.2.post1)\n",
            "Requirement already satisfied: tabulate>=0.7.7 in /usr/local/lib/python3.7/dist-packages (from eli5) (0.8.9)\n",
            "Requirement already satisfied: attrs>16.0.0 in /usr/local/lib/python3.7/dist-packages (from eli5) (20.3.0)\n",
            "Requirement already satisfied: graphviz in /usr/local/lib/python3.7/dist-packages (from eli5) (0.10.1)\n",
            "Requirement already satisfied: numpy>=1.9.0 in /usr/local/lib/python3.7/dist-packages (from eli5) (1.19.5)\n",
            "Requirement already satisfied: six in /usr/local/lib/python3.7/dist-packages (from eli5) (1.15.0)\n",
            "Requirement already satisfied: scipy in /usr/local/lib/python3.7/dist-packages (from eli5) (1.4.1)\n",
            "Requirement already satisfied: jinja2 in /usr/local/lib/python3.7/dist-packages (from eli5) (2.11.3)\n",
            "Requirement already satisfied: joblib>=0.11 in /usr/local/lib/python3.7/dist-packages (from scikit-learn>=0.20->eli5) (1.0.1)\n",
            "Requirement already satisfied: MarkupSafe>=0.23 in /usr/local/lib/python3.7/dist-packages (from jinja2->eli5) (1.1.1)\n",
            "Installing collected packages: eli5\n",
            "Successfully installed eli5-0.11.0\n"
          ],
          "name": "stdout"
        }
      ]
    },
    {
      "cell_type": "code",
      "metadata": {
        "colab": {
          "base_uri": "https://localhost:8080/"
        },
        "id": "X0B0Twj7QqXi",
        "outputId": "ed348d43-db61-4838-81dc-e9f822737876"
      },
      "source": [
        "import eli5\n",
        "from eli5.sklearn import PermutationImportance\n",
        "# Set Permutation Importance from eli5 library\n",
        "\n",
        "permuter = PermutationImportance(\n",
        "    model,\n",
        "    scoring = 'accuracy',\n",
        "    n_iter = 5,\n",
        "    random_state = 42\n",
        ")\n",
        "\n",
        "permuter.fit(X_val, y_val) # No need to transform X_val as it is already in correct state; fit permuter on the validation dataset"
      ],
      "execution_count": 55,
      "outputs": [
        {
          "output_type": "execute_result",
          "data": {
            "text/plain": [
              "PermutationImportance(cv='prefit',\n",
              "                      estimator=RandomForestClassifier(bootstrap=True,\n",
              "                                                       ccp_alpha=0.0,\n",
              "                                                       class_weight=None,\n",
              "                                                       criterion='gini',\n",
              "                                                       max_depth=15,\n",
              "                                                       max_features='auto',\n",
              "                                                       max_leaf_nodes=None,\n",
              "                                                       max_samples=None,\n",
              "                                                       min_impurity_decrease=0.0,\n",
              "                                                       min_impurity_split=None,\n",
              "                                                       min_samples_leaf=1,\n",
              "                                                       min_samples_split=2,\n",
              "                                                       min_weight_fraction_leaf=0.0,\n",
              "                                                       n_estimators=100,\n",
              "                                                       n_jobs=-1,\n",
              "                                                       oob_score=False,\n",
              "                                                       random_state=42,\n",
              "                                                       verbose=0,\n",
              "                                                       warm_start=False),\n",
              "                      n_iter=5, random_state=42, refit=True,\n",
              "                      scoring='accuracy')"
            ]
          },
          "metadata": {
            "tags": []
          },
          "execution_count": 55
        }
      ]
    },
    {
      "cell_type": "code",
      "metadata": {
        "colab": {
          "base_uri": "https://localhost:8080/"
        },
        "id": "zjih9XEUScgm",
        "outputId": "dd18412c-5f73-42d7-8ebb-4efb67bd7213"
      },
      "source": [
        "feature_names = X_val.columns.tolist()\n",
        "pd.Series(permuter.feature_importances_, feature_names).sort_values(ascending = False)"
      ],
      "execution_count": 56,
      "outputs": [
        {
          "output_type": "execute_result",
          "data": {
            "text/plain": [
              "T2MWET           0.005529\n",
              "T2MDEW           0.004052\n",
              "QV2M             0.003304\n",
              "PS               0.000961\n",
              "WS10M_RANGE      0.000654\n",
              "WS50M_MIN        0.000262\n",
              "WS10M_MAX        0.000168\n",
              "slope8           0.000025\n",
              "SQ4              0.000004\n",
              "NVG_LAND         0.000000\n",
              "SQ7              0.000000\n",
              "SQ3              0.000000\n",
              "SQ5              0.000000\n",
              "SQ6              0.000000\n",
              "WAT_LAND        -0.000012\n",
              "SQ1             -0.000016\n",
              "SQ2             -0.000025\n",
              "fips            -0.000041\n",
              "slope6          -0.000065\n",
              "WS10M           -0.000074\n",
              "GRS_LAND        -0.000102\n",
              "aspectS         -0.000106\n",
              "slope1          -0.000110\n",
              "slope3          -0.000123\n",
              "aspectUnknown   -0.000135\n",
              "WS10M_MIN       -0.000159\n",
              "slope2          -0.000172\n",
              "CULT_LAND       -0.000172\n",
              "lat             -0.000188\n",
              "aspectN         -0.000213\n",
              "WS50M_RANGE     -0.000217\n",
              "slope5          -0.000225\n",
              "slope7          -0.000229\n",
              "slope4          -0.000278\n",
              "CULTIR_LAND     -0.000307\n",
              "WS50M_MAX       -0.000339\n",
              "aspectW         -0.000348\n",
              "CULTRF_LAND     -0.000364\n",
              "FOR_LAND        -0.000380\n",
              "aspectE         -0.000409\n",
              "WS50M           -0.000478\n",
              "T2M_RANGE       -0.000560\n",
              "PRECTOT         -0.000585\n",
              "URB_LAND        -0.000765\n",
              "lon             -0.000859\n",
              "elevation       -0.001112\n",
              "T2M_MAX         -0.001513\n",
              "T2M_MIN         -0.001717\n",
              "T2M             -0.003185\n",
              "TS              -0.003656\n",
              "dtype: float64"
            ]
          },
          "metadata": {
            "tags": []
          },
          "execution_count": 56
        }
      ]
    },
    {
      "cell_type": "code",
      "metadata": {
        "colab": {
          "base_uri": "https://localhost:8080/",
          "height": 884
        },
        "id": "blnFoC3JTT3I",
        "outputId": "410544a3-672c-41d4-a940-02feb762cc47"
      },
      "source": [
        "# Display weights for all features\n",
        "\n",
        "eli5.show_weights(\n",
        "    permuter,\n",
        "    top = None,\n",
        "    feature_names = feature_names\n",
        ")"
      ],
      "execution_count": 57,
      "outputs": [
        {
          "output_type": "execute_result",
          "data": {
            "text/html": [
              "\n",
              "    <style>\n",
              "    table.eli5-weights tr:hover {\n",
              "        filter: brightness(85%);\n",
              "    }\n",
              "</style>\n",
              "\n",
              "\n",
              "\n",
              "    \n",
              "\n",
              "    \n",
              "\n",
              "    \n",
              "\n",
              "    \n",
              "\n",
              "    \n",
              "\n",
              "    \n",
              "\n",
              "\n",
              "    \n",
              "\n",
              "    \n",
              "\n",
              "    \n",
              "\n",
              "    \n",
              "\n",
              "    \n",
              "\n",
              "    \n",
              "\n",
              "\n",
              "    \n",
              "\n",
              "    \n",
              "\n",
              "    \n",
              "\n",
              "    \n",
              "\n",
              "    \n",
              "        <table class=\"eli5-weights eli5-feature-importances\" style=\"border-collapse: collapse; border: none; margin-top: 0em; table-layout: auto;\">\n",
              "    <thead>\n",
              "    <tr style=\"border: none;\">\n",
              "        <th style=\"padding: 0 1em 0 0.5em; text-align: right; border: none;\">Weight</th>\n",
              "        <th style=\"padding: 0 0.5em 0 0.5em; text-align: left; border: none;\">Feature</th>\n",
              "    </tr>\n",
              "    </thead>\n",
              "    <tbody>\n",
              "    \n",
              "        <tr style=\"background-color: hsl(120, 100.00%, 80.00%); border: none;\">\n",
              "            <td style=\"padding: 0 1em 0 0.5em; text-align: right; border: none;\">\n",
              "                0.0055\n",
              "                \n",
              "                    &plusmn; 0.0005\n",
              "                \n",
              "            </td>\n",
              "            <td style=\"padding: 0 0.5em 0 0.5em; text-align: left; border: none;\">\n",
              "                T2MWET\n",
              "            </td>\n",
              "        </tr>\n",
              "    \n",
              "        <tr style=\"background-color: hsl(120, 100.00%, 83.91%); border: none;\">\n",
              "            <td style=\"padding: 0 1em 0 0.5em; text-align: right; border: none;\">\n",
              "                0.0041\n",
              "                \n",
              "                    &plusmn; 0.0007\n",
              "                \n",
              "            </td>\n",
              "            <td style=\"padding: 0 0.5em 0 0.5em; text-align: left; border: none;\">\n",
              "                T2MDEW\n",
              "            </td>\n",
              "        </tr>\n",
              "    \n",
              "        <tr style=\"background-color: hsl(120, 100.00%, 86.05%); border: none;\">\n",
              "            <td style=\"padding: 0 1em 0 0.5em; text-align: right; border: none;\">\n",
              "                0.0033\n",
              "                \n",
              "                    &plusmn; 0.0005\n",
              "                \n",
              "            </td>\n",
              "            <td style=\"padding: 0 0.5em 0 0.5em; text-align: left; border: none;\">\n",
              "                QV2M\n",
              "            </td>\n",
              "        </tr>\n",
              "    \n",
              "        <tr style=\"background-color: hsl(120, 100.00%, 94.12%); border: none;\">\n",
              "            <td style=\"padding: 0 1em 0 0.5em; text-align: right; border: none;\">\n",
              "                0.0010\n",
              "                \n",
              "                    &plusmn; 0.0002\n",
              "                \n",
              "            </td>\n",
              "            <td style=\"padding: 0 0.5em 0 0.5em; text-align: left; border: none;\">\n",
              "                PS\n",
              "            </td>\n",
              "        </tr>\n",
              "    \n",
              "        <tr style=\"background-color: hsl(120, 100.00%, 95.51%); border: none;\">\n",
              "            <td style=\"padding: 0 1em 0 0.5em; text-align: right; border: none;\">\n",
              "                0.0007\n",
              "                \n",
              "                    &plusmn; 0.0002\n",
              "                \n",
              "            </td>\n",
              "            <td style=\"padding: 0 0.5em 0 0.5em; text-align: left; border: none;\">\n",
              "                WS10M_RANGE\n",
              "            </td>\n",
              "        </tr>\n",
              "    \n",
              "        <tr style=\"background-color: hsl(120, 100.00%, 97.64%); border: none;\">\n",
              "            <td style=\"padding: 0 1em 0 0.5em; text-align: right; border: none;\">\n",
              "                0.0003\n",
              "                \n",
              "                    &plusmn; 0.0003\n",
              "                \n",
              "            </td>\n",
              "            <td style=\"padding: 0 0.5em 0 0.5em; text-align: left; border: none;\">\n",
              "                WS50M_MIN\n",
              "            </td>\n",
              "        </tr>\n",
              "    \n",
              "        <tr style=\"background-color: hsl(120, 100.00%, 98.27%); border: none;\">\n",
              "            <td style=\"padding: 0 1em 0 0.5em; text-align: right; border: none;\">\n",
              "                0.0002\n",
              "                \n",
              "                    &plusmn; 0.0003\n",
              "                \n",
              "            </td>\n",
              "            <td style=\"padding: 0 0.5em 0 0.5em; text-align: left; border: none;\">\n",
              "                WS10M_MAX\n",
              "            </td>\n",
              "        </tr>\n",
              "    \n",
              "        <tr style=\"background-color: hsl(120, 100.00%, 99.55%); border: none;\">\n",
              "            <td style=\"padding: 0 1em 0 0.5em; text-align: right; border: none;\">\n",
              "                0.0000\n",
              "                \n",
              "                    &plusmn; 0.0002\n",
              "                \n",
              "            </td>\n",
              "            <td style=\"padding: 0 0.5em 0 0.5em; text-align: left; border: none;\">\n",
              "                slope8\n",
              "            </td>\n",
              "        </tr>\n",
              "    \n",
              "        <tr style=\"background-color: hsl(120, 100.00%, 99.87%); border: none;\">\n",
              "            <td style=\"padding: 0 1em 0 0.5em; text-align: right; border: none;\">\n",
              "                0.0000\n",
              "                \n",
              "                    &plusmn; 0.0000\n",
              "                \n",
              "            </td>\n",
              "            <td style=\"padding: 0 0.5em 0 0.5em; text-align: left; border: none;\">\n",
              "                SQ4\n",
              "            </td>\n",
              "        </tr>\n",
              "    \n",
              "        <tr style=\"background-color: hsl(0, 100.00%, 100.00%); border: none;\">\n",
              "            <td style=\"padding: 0 1em 0 0.5em; text-align: right; border: none;\">\n",
              "                0\n",
              "                \n",
              "                    &plusmn; 0.0000\n",
              "                \n",
              "            </td>\n",
              "            <td style=\"padding: 0 0.5em 0 0.5em; text-align: left; border: none;\">\n",
              "                NVG_LAND\n",
              "            </td>\n",
              "        </tr>\n",
              "    \n",
              "        <tr style=\"background-color: hsl(0, 100.00%, 100.00%); border: none;\">\n",
              "            <td style=\"padding: 0 1em 0 0.5em; text-align: right; border: none;\">\n",
              "                0\n",
              "                \n",
              "                    &plusmn; 0.0000\n",
              "                \n",
              "            </td>\n",
              "            <td style=\"padding: 0 0.5em 0 0.5em; text-align: left; border: none;\">\n",
              "                SQ7\n",
              "            </td>\n",
              "        </tr>\n",
              "    \n",
              "        <tr style=\"background-color: hsl(0, 100.00%, 100.00%); border: none;\">\n",
              "            <td style=\"padding: 0 1em 0 0.5em; text-align: right; border: none;\">\n",
              "                0\n",
              "                \n",
              "                    &plusmn; 0.0000\n",
              "                \n",
              "            </td>\n",
              "            <td style=\"padding: 0 0.5em 0 0.5em; text-align: left; border: none;\">\n",
              "                SQ3\n",
              "            </td>\n",
              "        </tr>\n",
              "    \n",
              "        <tr style=\"background-color: hsl(0, 100.00%, 100.00%); border: none;\">\n",
              "            <td style=\"padding: 0 1em 0 0.5em; text-align: right; border: none;\">\n",
              "                0\n",
              "                \n",
              "                    &plusmn; 0.0000\n",
              "                \n",
              "            </td>\n",
              "            <td style=\"padding: 0 0.5em 0 0.5em; text-align: left; border: none;\">\n",
              "                SQ5\n",
              "            </td>\n",
              "        </tr>\n",
              "    \n",
              "        <tr style=\"background-color: hsl(0, 100.00%, 100.00%); border: none;\">\n",
              "            <td style=\"padding: 0 1em 0 0.5em; text-align: right; border: none;\">\n",
              "                0\n",
              "                \n",
              "                    &plusmn; 0.0000\n",
              "                \n",
              "            </td>\n",
              "            <td style=\"padding: 0 0.5em 0 0.5em; text-align: left; border: none;\">\n",
              "                SQ6\n",
              "            </td>\n",
              "        </tr>\n",
              "    \n",
              "        <tr style=\"background-color: hsl(0, 100.00%, 99.72%); border: none;\">\n",
              "            <td style=\"padding: 0 1em 0 0.5em; text-align: right; border: none;\">\n",
              "                -0.0000\n",
              "                \n",
              "                    &plusmn; 0.0000\n",
              "                \n",
              "            </td>\n",
              "            <td style=\"padding: 0 0.5em 0 0.5em; text-align: left; border: none;\">\n",
              "                WAT_LAND\n",
              "            </td>\n",
              "        </tr>\n",
              "    \n",
              "        <tr style=\"background-color: hsl(0, 100.00%, 99.66%); border: none;\">\n",
              "            <td style=\"padding: 0 1em 0 0.5em; text-align: right; border: none;\">\n",
              "                -0.0000\n",
              "                \n",
              "                    &plusmn; 0.0001\n",
              "                \n",
              "            </td>\n",
              "            <td style=\"padding: 0 0.5em 0 0.5em; text-align: left; border: none;\">\n",
              "                SQ1\n",
              "            </td>\n",
              "        </tr>\n",
              "    \n",
              "        <tr style=\"background-color: hsl(0, 100.00%, 99.55%); border: none;\">\n",
              "            <td style=\"padding: 0 1em 0 0.5em; text-align: right; border: none;\">\n",
              "                -0.0000\n",
              "                \n",
              "                    &plusmn; 0.0001\n",
              "                \n",
              "            </td>\n",
              "            <td style=\"padding: 0 0.5em 0 0.5em; text-align: left; border: none;\">\n",
              "                SQ2\n",
              "            </td>\n",
              "        </tr>\n",
              "    \n",
              "        <tr style=\"background-color: hsl(0, 100.00%, 99.36%); border: none;\">\n",
              "            <td style=\"padding: 0 1em 0 0.5em; text-align: right; border: none;\">\n",
              "                -0.0000\n",
              "                \n",
              "                    &plusmn; 0.0001\n",
              "                \n",
              "            </td>\n",
              "            <td style=\"padding: 0 0.5em 0 0.5em; text-align: left; border: none;\">\n",
              "                fips\n",
              "            </td>\n",
              "        </tr>\n",
              "    \n",
              "        <tr style=\"background-color: hsl(0, 100.00%, 99.10%); border: none;\">\n",
              "            <td style=\"padding: 0 1em 0 0.5em; text-align: right; border: none;\">\n",
              "                -0.0001\n",
              "                \n",
              "                    &plusmn; 0.0001\n",
              "                \n",
              "            </td>\n",
              "            <td style=\"padding: 0 0.5em 0 0.5em; text-align: left; border: none;\">\n",
              "                slope6\n",
              "            </td>\n",
              "        </tr>\n",
              "    \n",
              "        <tr style=\"background-color: hsl(0, 100.00%, 99.03%); border: none;\">\n",
              "            <td style=\"padding: 0 1em 0 0.5em; text-align: right; border: none;\">\n",
              "                -0.0001\n",
              "                \n",
              "                    &plusmn; 0.0003\n",
              "                \n",
              "            </td>\n",
              "            <td style=\"padding: 0 0.5em 0 0.5em; text-align: left; border: none;\">\n",
              "                WS10M\n",
              "            </td>\n",
              "        </tr>\n",
              "    \n",
              "        <tr style=\"background-color: hsl(0, 100.00%, 98.78%); border: none;\">\n",
              "            <td style=\"padding: 0 1em 0 0.5em; text-align: right; border: none;\">\n",
              "                -0.0001\n",
              "                \n",
              "                    &plusmn; 0.0002\n",
              "                \n",
              "            </td>\n",
              "            <td style=\"padding: 0 0.5em 0 0.5em; text-align: left; border: none;\">\n",
              "                GRS_LAND\n",
              "            </td>\n",
              "        </tr>\n",
              "    \n",
              "        <tr style=\"background-color: hsl(0, 100.00%, 98.74%); border: none;\">\n",
              "            <td style=\"padding: 0 1em 0 0.5em; text-align: right; border: none;\">\n",
              "                -0.0001\n",
              "                \n",
              "                    &plusmn; 0.0002\n",
              "                \n",
              "            </td>\n",
              "            <td style=\"padding: 0 0.5em 0 0.5em; text-align: left; border: none;\">\n",
              "                aspectS\n",
              "            </td>\n",
              "        </tr>\n",
              "    \n",
              "        <tr style=\"background-color: hsl(0, 100.00%, 98.71%); border: none;\">\n",
              "            <td style=\"padding: 0 1em 0 0.5em; text-align: right; border: none;\">\n",
              "                -0.0001\n",
              "                \n",
              "                    &plusmn; 0.0002\n",
              "                \n",
              "            </td>\n",
              "            <td style=\"padding: 0 0.5em 0 0.5em; text-align: left; border: none;\">\n",
              "                slope1\n",
              "            </td>\n",
              "        </tr>\n",
              "    \n",
              "        <tr style=\"background-color: hsl(0, 100.00%, 98.61%); border: none;\">\n",
              "            <td style=\"padding: 0 1em 0 0.5em; text-align: right; border: none;\">\n",
              "                -0.0001\n",
              "                \n",
              "                    &plusmn; 0.0003\n",
              "                \n",
              "            </td>\n",
              "            <td style=\"padding: 0 0.5em 0 0.5em; text-align: left; border: none;\">\n",
              "                slope3\n",
              "            </td>\n",
              "        </tr>\n",
              "    \n",
              "        <tr style=\"background-color: hsl(0, 100.00%, 98.51%); border: none;\">\n",
              "            <td style=\"padding: 0 1em 0 0.5em; text-align: right; border: none;\">\n",
              "                -0.0001\n",
              "                \n",
              "                    &plusmn; 0.0002\n",
              "                \n",
              "            </td>\n",
              "            <td style=\"padding: 0 0.5em 0 0.5em; text-align: left; border: none;\">\n",
              "                aspectUnknown\n",
              "            </td>\n",
              "        </tr>\n",
              "    \n",
              "        <tr style=\"background-color: hsl(0, 100.00%, 98.33%); border: none;\">\n",
              "            <td style=\"padding: 0 1em 0 0.5em; text-align: right; border: none;\">\n",
              "                -0.0002\n",
              "                \n",
              "                    &plusmn; 0.0003\n",
              "                \n",
              "            </td>\n",
              "            <td style=\"padding: 0 0.5em 0 0.5em; text-align: left; border: none;\">\n",
              "                WS10M_MIN\n",
              "            </td>\n",
              "        </tr>\n",
              "    \n",
              "        <tr style=\"background-color: hsl(0, 100.00%, 98.24%); border: none;\">\n",
              "            <td style=\"padding: 0 1em 0 0.5em; text-align: right; border: none;\">\n",
              "                -0.0002\n",
              "                \n",
              "                    &plusmn; 0.0002\n",
              "                \n",
              "            </td>\n",
              "            <td style=\"padding: 0 0.5em 0 0.5em; text-align: left; border: none;\">\n",
              "                slope2\n",
              "            </td>\n",
              "        </tr>\n",
              "    \n",
              "        <tr style=\"background-color: hsl(0, 100.00%, 98.24%); border: none;\">\n",
              "            <td style=\"padding: 0 1em 0 0.5em; text-align: right; border: none;\">\n",
              "                -0.0002\n",
              "                \n",
              "                    &plusmn; 0.0002\n",
              "                \n",
              "            </td>\n",
              "            <td style=\"padding: 0 0.5em 0 0.5em; text-align: left; border: none;\">\n",
              "                CULT_LAND\n",
              "            </td>\n",
              "        </tr>\n",
              "    \n",
              "        <tr style=\"background-color: hsl(0, 100.00%, 98.12%); border: none;\">\n",
              "            <td style=\"padding: 0 1em 0 0.5em; text-align: right; border: none;\">\n",
              "                -0.0002\n",
              "                \n",
              "                    &plusmn; 0.0002\n",
              "                \n",
              "            </td>\n",
              "            <td style=\"padding: 0 0.5em 0 0.5em; text-align: left; border: none;\">\n",
              "                lat\n",
              "            </td>\n",
              "        </tr>\n",
              "    \n",
              "        <tr style=\"background-color: hsl(0, 100.00%, 97.96%); border: none;\">\n",
              "            <td style=\"padding: 0 1em 0 0.5em; text-align: right; border: none;\">\n",
              "                -0.0002\n",
              "                \n",
              "                    &plusmn; 0.0001\n",
              "                \n",
              "            </td>\n",
              "            <td style=\"padding: 0 0.5em 0 0.5em; text-align: left; border: none;\">\n",
              "                aspectN\n",
              "            </td>\n",
              "        </tr>\n",
              "    \n",
              "        <tr style=\"background-color: hsl(0, 100.00%, 97.93%); border: none;\">\n",
              "            <td style=\"padding: 0 1em 0 0.5em; text-align: right; border: none;\">\n",
              "                -0.0002\n",
              "                \n",
              "                    &plusmn; 0.0004\n",
              "                \n",
              "            </td>\n",
              "            <td style=\"padding: 0 0.5em 0 0.5em; text-align: left; border: none;\">\n",
              "                WS50M_RANGE\n",
              "            </td>\n",
              "        </tr>\n",
              "    \n",
              "        <tr style=\"background-color: hsl(0, 100.00%, 97.87%); border: none;\">\n",
              "            <td style=\"padding: 0 1em 0 0.5em; text-align: right; border: none;\">\n",
              "                -0.0002\n",
              "                \n",
              "                    &plusmn; 0.0002\n",
              "                \n",
              "            </td>\n",
              "            <td style=\"padding: 0 0.5em 0 0.5em; text-align: left; border: none;\">\n",
              "                slope5\n",
              "            </td>\n",
              "        </tr>\n",
              "    \n",
              "        <tr style=\"background-color: hsl(0, 100.00%, 97.85%); border: none;\">\n",
              "            <td style=\"padding: 0 1em 0 0.5em; text-align: right; border: none;\">\n",
              "                -0.0002\n",
              "                \n",
              "                    &plusmn; 0.0002\n",
              "                \n",
              "            </td>\n",
              "            <td style=\"padding: 0 0.5em 0 0.5em; text-align: left; border: none;\">\n",
              "                slope7\n",
              "            </td>\n",
              "        </tr>\n",
              "    \n",
              "        <tr style=\"background-color: hsl(0, 100.00%, 97.53%); border: none;\">\n",
              "            <td style=\"padding: 0 1em 0 0.5em; text-align: right; border: none;\">\n",
              "                -0.0003\n",
              "                \n",
              "                    &plusmn; 0.0001\n",
              "                \n",
              "            </td>\n",
              "            <td style=\"padding: 0 0.5em 0 0.5em; text-align: left; border: none;\">\n",
              "                slope4\n",
              "            </td>\n",
              "        </tr>\n",
              "    \n",
              "        <tr style=\"background-color: hsl(0, 100.00%, 97.36%); border: none;\">\n",
              "            <td style=\"padding: 0 1em 0 0.5em; text-align: right; border: none;\">\n",
              "                -0.0003\n",
              "                \n",
              "                    &plusmn; 0.0003\n",
              "                \n",
              "            </td>\n",
              "            <td style=\"padding: 0 0.5em 0 0.5em; text-align: left; border: none;\">\n",
              "                CULTIR_LAND\n",
              "            </td>\n",
              "        </tr>\n",
              "    \n",
              "        <tr style=\"background-color: hsl(0, 100.00%, 97.16%); border: none;\">\n",
              "            <td style=\"padding: 0 1em 0 0.5em; text-align: right; border: none;\">\n",
              "                -0.0003\n",
              "                \n",
              "                    &plusmn; 0.0003\n",
              "                \n",
              "            </td>\n",
              "            <td style=\"padding: 0 0.5em 0 0.5em; text-align: left; border: none;\">\n",
              "                WS50M_MAX\n",
              "            </td>\n",
              "        </tr>\n",
              "    \n",
              "        <tr style=\"background-color: hsl(0, 100.00%, 97.12%); border: none;\">\n",
              "            <td style=\"padding: 0 1em 0 0.5em; text-align: right; border: none;\">\n",
              "                -0.0003\n",
              "                \n",
              "                    &plusmn; 0.0002\n",
              "                \n",
              "            </td>\n",
              "            <td style=\"padding: 0 0.5em 0 0.5em; text-align: left; border: none;\">\n",
              "                aspectW\n",
              "            </td>\n",
              "        </tr>\n",
              "    \n",
              "        <tr style=\"background-color: hsl(0, 100.00%, 97.02%); border: none;\">\n",
              "            <td style=\"padding: 0 1em 0 0.5em; text-align: right; border: none;\">\n",
              "                -0.0004\n",
              "                \n",
              "                    &plusmn; 0.0002\n",
              "                \n",
              "            </td>\n",
              "            <td style=\"padding: 0 0.5em 0 0.5em; text-align: left; border: none;\">\n",
              "                CULTRF_LAND\n",
              "            </td>\n",
              "        </tr>\n",
              "    \n",
              "        <tr style=\"background-color: hsl(0, 100.00%, 96.93%); border: none;\">\n",
              "            <td style=\"padding: 0 1em 0 0.5em; text-align: right; border: none;\">\n",
              "                -0.0004\n",
              "                \n",
              "                    &plusmn; 0.0002\n",
              "                \n",
              "            </td>\n",
              "            <td style=\"padding: 0 0.5em 0 0.5em; text-align: left; border: none;\">\n",
              "                FOR_LAND\n",
              "            </td>\n",
              "        </tr>\n",
              "    \n",
              "        <tr style=\"background-color: hsl(0, 100.00%, 96.77%); border: none;\">\n",
              "            <td style=\"padding: 0 1em 0 0.5em; text-align: right; border: none;\">\n",
              "                -0.0004\n",
              "                \n",
              "                    &plusmn; 0.0002\n",
              "                \n",
              "            </td>\n",
              "            <td style=\"padding: 0 0.5em 0 0.5em; text-align: left; border: none;\">\n",
              "                aspectE\n",
              "            </td>\n",
              "        </tr>\n",
              "    \n",
              "        <tr style=\"background-color: hsl(0, 100.00%, 96.39%); border: none;\">\n",
              "            <td style=\"padding: 0 1em 0 0.5em; text-align: right; border: none;\">\n",
              "                -0.0005\n",
              "                \n",
              "                    &plusmn; 0.0003\n",
              "                \n",
              "            </td>\n",
              "            <td style=\"padding: 0 0.5em 0 0.5em; text-align: left; border: none;\">\n",
              "                WS50M\n",
              "            </td>\n",
              "        </tr>\n",
              "    \n",
              "        <tr style=\"background-color: hsl(0, 100.00%, 95.97%); border: none;\">\n",
              "            <td style=\"padding: 0 1em 0 0.5em; text-align: right; border: none;\">\n",
              "                -0.0006\n",
              "                \n",
              "                    &plusmn; 0.0003\n",
              "                \n",
              "            </td>\n",
              "            <td style=\"padding: 0 0.5em 0 0.5em; text-align: left; border: none;\">\n",
              "                T2M_RANGE\n",
              "            </td>\n",
              "        </tr>\n",
              "    \n",
              "        <tr style=\"background-color: hsl(0, 100.00%, 95.85%); border: none;\">\n",
              "            <td style=\"padding: 0 1em 0 0.5em; text-align: right; border: none;\">\n",
              "                -0.0006\n",
              "                \n",
              "                    &plusmn; 0.0003\n",
              "                \n",
              "            </td>\n",
              "            <td style=\"padding: 0 0.5em 0 0.5em; text-align: left; border: none;\">\n",
              "                PRECTOT\n",
              "            </td>\n",
              "        </tr>\n",
              "    \n",
              "        <tr style=\"background-color: hsl(0, 100.00%, 94.99%); border: none;\">\n",
              "            <td style=\"padding: 0 1em 0 0.5em; text-align: right; border: none;\">\n",
              "                -0.0008\n",
              "                \n",
              "                    &plusmn; 0.0003\n",
              "                \n",
              "            </td>\n",
              "            <td style=\"padding: 0 0.5em 0 0.5em; text-align: left; border: none;\">\n",
              "                URB_LAND\n",
              "            </td>\n",
              "        </tr>\n",
              "    \n",
              "        <tr style=\"background-color: hsl(0, 100.00%, 94.57%); border: none;\">\n",
              "            <td style=\"padding: 0 1em 0 0.5em; text-align: right; border: none;\">\n",
              "                -0.0009\n",
              "                \n",
              "                    &plusmn; 0.0002\n",
              "                \n",
              "            </td>\n",
              "            <td style=\"padding: 0 0.5em 0 0.5em; text-align: left; border: none;\">\n",
              "                lon\n",
              "            </td>\n",
              "        </tr>\n",
              "    \n",
              "        <tr style=\"background-color: hsl(0, 100.00%, 93.49%); border: none;\">\n",
              "            <td style=\"padding: 0 1em 0 0.5em; text-align: right; border: none;\">\n",
              "                -0.0011\n",
              "                \n",
              "                    &plusmn; 0.0006\n",
              "                \n",
              "            </td>\n",
              "            <td style=\"padding: 0 0.5em 0 0.5em; text-align: left; border: none;\">\n",
              "                elevation\n",
              "            </td>\n",
              "        </tr>\n",
              "    \n",
              "        <tr style=\"background-color: hsl(0, 100.00%, 91.93%); border: none;\">\n",
              "            <td style=\"padding: 0 1em 0 0.5em; text-align: right; border: none;\">\n",
              "                -0.0015\n",
              "                \n",
              "                    &plusmn; 0.0007\n",
              "                \n",
              "            </td>\n",
              "            <td style=\"padding: 0 0.5em 0 0.5em; text-align: left; border: none;\">\n",
              "                T2M_MAX\n",
              "            </td>\n",
              "        </tr>\n",
              "    \n",
              "        <tr style=\"background-color: hsl(0, 100.00%, 91.18%); border: none;\">\n",
              "            <td style=\"padding: 0 1em 0 0.5em; text-align: right; border: none;\">\n",
              "                -0.0017\n",
              "                \n",
              "                    &plusmn; 0.0005\n",
              "                \n",
              "            </td>\n",
              "            <td style=\"padding: 0 0.5em 0 0.5em; text-align: left; border: none;\">\n",
              "                T2M_MIN\n",
              "            </td>\n",
              "        </tr>\n",
              "    \n",
              "        <tr style=\"background-color: hsl(0, 100.00%, 86.40%); border: none;\">\n",
              "            <td style=\"padding: 0 1em 0 0.5em; text-align: right; border: none;\">\n",
              "                -0.0032\n",
              "                \n",
              "                    &plusmn; 0.0005\n",
              "                \n",
              "            </td>\n",
              "            <td style=\"padding: 0 0.5em 0 0.5em; text-align: left; border: none;\">\n",
              "                T2M\n",
              "            </td>\n",
              "        </tr>\n",
              "    \n",
              "        <tr style=\"background-color: hsl(0, 100.00%, 85.03%); border: none;\">\n",
              "            <td style=\"padding: 0 1em 0 0.5em; text-align: right; border: none;\">\n",
              "                -0.0037\n",
              "                \n",
              "                    &plusmn; 0.0010\n",
              "                \n",
              "            </td>\n",
              "            <td style=\"padding: 0 0.5em 0 0.5em; text-align: left; border: none;\">\n",
              "                TS\n",
              "            </td>\n",
              "        </tr>\n",
              "    \n",
              "    \n",
              "    </tbody>\n",
              "</table>\n",
              "    \n",
              "\n",
              "    \n",
              "\n",
              "\n",
              "    \n",
              "\n",
              "    \n",
              "\n",
              "    \n",
              "\n",
              "    \n",
              "\n",
              "    \n",
              "\n",
              "    \n",
              "\n",
              "\n",
              "\n"
            ],
            "text/plain": [
              "<IPython.core.display.HTML object>"
            ]
          },
          "metadata": {
            "tags": []
          },
          "execution_count": 57
        }
      ]
    },
    {
      "cell_type": "code",
      "metadata": {
        "colab": {
          "base_uri": "https://localhost:8080/",
          "height": 884
        },
        "id": "S6Njj3hmURhY",
        "outputId": "5823f8a0-0be0-4589-be76-9101c5bbbe98"
      },
      "source": [
        "eli5.explain_weights(model, top = None, feature_names = feature_names)"
      ],
      "execution_count": 60,
      "outputs": [
        {
          "output_type": "execute_result",
          "data": {
            "text/html": [
              "\n",
              "    <style>\n",
              "    table.eli5-weights tr:hover {\n",
              "        filter: brightness(85%);\n",
              "    }\n",
              "</style>\n",
              "\n",
              "\n",
              "\n",
              "    \n",
              "\n",
              "    \n",
              "\n",
              "    \n",
              "\n",
              "    \n",
              "\n",
              "    \n",
              "\n",
              "    \n",
              "\n",
              "\n",
              "    \n",
              "\n",
              "    \n",
              "\n",
              "    \n",
              "\n",
              "    \n",
              "\n",
              "    \n",
              "\n",
              "    \n",
              "\n",
              "\n",
              "    \n",
              "\n",
              "    \n",
              "\n",
              "    \n",
              "\n",
              "    \n",
              "\n",
              "    \n",
              "        <table class=\"eli5-weights eli5-feature-importances\" style=\"border-collapse: collapse; border: none; margin-top: 0em; table-layout: auto;\">\n",
              "    <thead>\n",
              "    <tr style=\"border: none;\">\n",
              "        <th style=\"padding: 0 1em 0 0.5em; text-align: right; border: none;\">Weight</th>\n",
              "        <th style=\"padding: 0 0.5em 0 0.5em; text-align: left; border: none;\">Feature</th>\n",
              "    </tr>\n",
              "    </thead>\n",
              "    <tbody>\n",
              "    \n",
              "        <tr style=\"background-color: hsl(120, 100.00%, 80.00%); border: none;\">\n",
              "            <td style=\"padding: 0 1em 0 0.5em; text-align: right; border: none;\">\n",
              "                0.0925\n",
              "                \n",
              "                    &plusmn; 0.0634\n",
              "                \n",
              "            </td>\n",
              "            <td style=\"padding: 0 0.5em 0 0.5em; text-align: left; border: none;\">\n",
              "                T2M_MAX\n",
              "            </td>\n",
              "        </tr>\n",
              "    \n",
              "        <tr style=\"background-color: hsl(120, 100.00%, 84.05%); border: none;\">\n",
              "            <td style=\"padding: 0 1em 0 0.5em; text-align: right; border: none;\">\n",
              "                0.0669\n",
              "                \n",
              "                    &plusmn; 0.0383\n",
              "                \n",
              "            </td>\n",
              "            <td style=\"padding: 0 0.5em 0 0.5em; text-align: left; border: none;\">\n",
              "                TS\n",
              "            </td>\n",
              "        </tr>\n",
              "    \n",
              "        <tr style=\"background-color: hsl(120, 100.00%, 84.40%); border: none;\">\n",
              "            <td style=\"padding: 0 1em 0 0.5em; text-align: right; border: none;\">\n",
              "                0.0649\n",
              "                \n",
              "                    &plusmn; 0.0398\n",
              "                \n",
              "            </td>\n",
              "            <td style=\"padding: 0 0.5em 0 0.5em; text-align: left; border: none;\">\n",
              "                T2M\n",
              "            </td>\n",
              "        </tr>\n",
              "    \n",
              "        <tr style=\"background-color: hsl(120, 100.00%, 85.46%); border: none;\">\n",
              "            <td style=\"padding: 0 1em 0 0.5em; text-align: right; border: none;\">\n",
              "                0.0587\n",
              "                \n",
              "                    &plusmn; 0.0298\n",
              "                \n",
              "            </td>\n",
              "            <td style=\"padding: 0 0.5em 0 0.5em; text-align: left; border: none;\">\n",
              "                T2M_MIN\n",
              "            </td>\n",
              "        </tr>\n",
              "    \n",
              "        <tr style=\"background-color: hsl(120, 100.00%, 85.47%); border: none;\">\n",
              "            <td style=\"padding: 0 1em 0 0.5em; text-align: right; border: none;\">\n",
              "                0.0586\n",
              "                \n",
              "                    &plusmn; 0.0329\n",
              "                \n",
              "            </td>\n",
              "            <td style=\"padding: 0 0.5em 0 0.5em; text-align: left; border: none;\">\n",
              "                T2M_RANGE\n",
              "            </td>\n",
              "        </tr>\n",
              "    \n",
              "        <tr style=\"background-color: hsl(120, 100.00%, 85.55%); border: none;\">\n",
              "            <td style=\"padding: 0 1em 0 0.5em; text-align: right; border: none;\">\n",
              "                0.0581\n",
              "                \n",
              "                    &plusmn; 0.0197\n",
              "                \n",
              "            </td>\n",
              "            <td style=\"padding: 0 0.5em 0 0.5em; text-align: left; border: none;\">\n",
              "                T2MDEW\n",
              "            </td>\n",
              "        </tr>\n",
              "    \n",
              "        <tr style=\"background-color: hsl(120, 100.00%, 85.95%); border: none;\">\n",
              "            <td style=\"padding: 0 1em 0 0.5em; text-align: right; border: none;\">\n",
              "                0.0558\n",
              "                \n",
              "                    &plusmn; 0.0168\n",
              "                \n",
              "            </td>\n",
              "            <td style=\"padding: 0 0.5em 0 0.5em; text-align: left; border: none;\">\n",
              "                T2MWET\n",
              "            </td>\n",
              "        </tr>\n",
              "    \n",
              "        <tr style=\"background-color: hsl(120, 100.00%, 86.19%); border: none;\">\n",
              "            <td style=\"padding: 0 1em 0 0.5em; text-align: right; border: none;\">\n",
              "                0.0545\n",
              "                \n",
              "                    &plusmn; 0.0193\n",
              "                \n",
              "            </td>\n",
              "            <td style=\"padding: 0 0.5em 0 0.5em; text-align: left; border: none;\">\n",
              "                QV2M\n",
              "            </td>\n",
              "        </tr>\n",
              "    \n",
              "        <tr style=\"background-color: hsl(120, 100.00%, 88.83%); border: none;\">\n",
              "            <td style=\"padding: 0 1em 0 0.5em; text-align: right; border: none;\">\n",
              "                0.0402\n",
              "                \n",
              "                    &plusmn; 0.0059\n",
              "                \n",
              "            </td>\n",
              "            <td style=\"padding: 0 0.5em 0 0.5em; text-align: left; border: none;\">\n",
              "                PRECTOT\n",
              "            </td>\n",
              "        </tr>\n",
              "    \n",
              "        <tr style=\"background-color: hsl(120, 100.00%, 89.75%); border: none;\">\n",
              "            <td style=\"padding: 0 1em 0 0.5em; text-align: right; border: none;\">\n",
              "                0.0356\n",
              "                \n",
              "                    &plusmn; 0.0066\n",
              "                \n",
              "            </td>\n",
              "            <td style=\"padding: 0 0.5em 0 0.5em; text-align: left; border: none;\">\n",
              "                PS\n",
              "            </td>\n",
              "        </tr>\n",
              "    \n",
              "        <tr style=\"background-color: hsl(120, 100.00%, 90.13%); border: none;\">\n",
              "            <td style=\"padding: 0 1em 0 0.5em; text-align: right; border: none;\">\n",
              "                0.0337\n",
              "                \n",
              "                    &plusmn; 0.0051\n",
              "                \n",
              "            </td>\n",
              "            <td style=\"padding: 0 0.5em 0 0.5em; text-align: left; border: none;\">\n",
              "                WS50M\n",
              "            </td>\n",
              "        </tr>\n",
              "    \n",
              "        <tr style=\"background-color: hsl(120, 100.00%, 90.26%); border: none;\">\n",
              "            <td style=\"padding: 0 1em 0 0.5em; text-align: right; border: none;\">\n",
              "                0.0331\n",
              "                \n",
              "                    &plusmn; 0.0048\n",
              "                \n",
              "            </td>\n",
              "            <td style=\"padding: 0 0.5em 0 0.5em; text-align: left; border: none;\">\n",
              "                WS50M_RANGE\n",
              "            </td>\n",
              "        </tr>\n",
              "    \n",
              "        <tr style=\"background-color: hsl(120, 100.00%, 90.27%); border: none;\">\n",
              "            <td style=\"padding: 0 1em 0 0.5em; text-align: right; border: none;\">\n",
              "                0.0331\n",
              "                \n",
              "                    &plusmn; 0.0053\n",
              "                \n",
              "            </td>\n",
              "            <td style=\"padding: 0 0.5em 0 0.5em; text-align: left; border: none;\">\n",
              "                WS50M_MAX\n",
              "            </td>\n",
              "        </tr>\n",
              "    \n",
              "        <tr style=\"background-color: hsl(120, 100.00%, 90.31%); border: none;\">\n",
              "            <td style=\"padding: 0 1em 0 0.5em; text-align: right; border: none;\">\n",
              "                0.0328\n",
              "                \n",
              "                    &plusmn; 0.0054\n",
              "                \n",
              "            </td>\n",
              "            <td style=\"padding: 0 0.5em 0 0.5em; text-align: left; border: none;\">\n",
              "                WS10M_MAX\n",
              "            </td>\n",
              "        </tr>\n",
              "    \n",
              "        <tr style=\"background-color: hsl(120, 100.00%, 90.45%); border: none;\">\n",
              "            <td style=\"padding: 0 1em 0 0.5em; text-align: right; border: none;\">\n",
              "                0.0322\n",
              "                \n",
              "                    &plusmn; 0.0048\n",
              "                \n",
              "            </td>\n",
              "            <td style=\"padding: 0 0.5em 0 0.5em; text-align: left; border: none;\">\n",
              "                WS10M_RANGE\n",
              "            </td>\n",
              "        </tr>\n",
              "    \n",
              "        <tr style=\"background-color: hsl(120, 100.00%, 90.53%); border: none;\">\n",
              "            <td style=\"padding: 0 1em 0 0.5em; text-align: right; border: none;\">\n",
              "                0.0318\n",
              "                \n",
              "                    &plusmn; 0.0046\n",
              "                \n",
              "            </td>\n",
              "            <td style=\"padding: 0 0.5em 0 0.5em; text-align: left; border: none;\">\n",
              "                WS50M_MIN\n",
              "            </td>\n",
              "        </tr>\n",
              "    \n",
              "        <tr style=\"background-color: hsl(120, 100.00%, 90.61%); border: none;\">\n",
              "            <td style=\"padding: 0 1em 0 0.5em; text-align: right; border: none;\">\n",
              "                0.0314\n",
              "                \n",
              "                    &plusmn; 0.0057\n",
              "                \n",
              "            </td>\n",
              "            <td style=\"padding: 0 0.5em 0 0.5em; text-align: left; border: none;\">\n",
              "                WS10M\n",
              "            </td>\n",
              "        </tr>\n",
              "    \n",
              "        <tr style=\"background-color: hsl(120, 100.00%, 90.74%); border: none;\">\n",
              "            <td style=\"padding: 0 1em 0 0.5em; text-align: right; border: none;\">\n",
              "                0.0308\n",
              "                \n",
              "                    &plusmn; 0.0062\n",
              "                \n",
              "            </td>\n",
              "            <td style=\"padding: 0 0.5em 0 0.5em; text-align: left; border: none;\">\n",
              "                WS10M_MIN\n",
              "            </td>\n",
              "        </tr>\n",
              "    \n",
              "        <tr style=\"background-color: hsl(120, 100.00%, 94.07%); border: none;\">\n",
              "            <td style=\"padding: 0 1em 0 0.5em; text-align: right; border: none;\">\n",
              "                0.0163\n",
              "                \n",
              "                    &plusmn; 0.0096\n",
              "                \n",
              "            </td>\n",
              "            <td style=\"padding: 0 0.5em 0 0.5em; text-align: left; border: none;\">\n",
              "                lon\n",
              "            </td>\n",
              "        </tr>\n",
              "    \n",
              "        <tr style=\"background-color: hsl(120, 100.00%, 95.12%); border: none;\">\n",
              "            <td style=\"padding: 0 1em 0 0.5em; text-align: right; border: none;\">\n",
              "                0.0123\n",
              "                \n",
              "                    &plusmn; 0.0097\n",
              "                \n",
              "            </td>\n",
              "            <td style=\"padding: 0 0.5em 0 0.5em; text-align: left; border: none;\">\n",
              "                elevation\n",
              "            </td>\n",
              "        </tr>\n",
              "    \n",
              "        <tr style=\"background-color: hsl(120, 100.00%, 95.14%); border: none;\">\n",
              "            <td style=\"padding: 0 1em 0 0.5em; text-align: right; border: none;\">\n",
              "                0.0123\n",
              "                \n",
              "                    &plusmn; 0.0059\n",
              "                \n",
              "            </td>\n",
              "            <td style=\"padding: 0 0.5em 0 0.5em; text-align: left; border: none;\">\n",
              "                lat\n",
              "            </td>\n",
              "        </tr>\n",
              "    \n",
              "        <tr style=\"background-color: hsl(120, 100.00%, 95.66%); border: none;\">\n",
              "            <td style=\"padding: 0 1em 0 0.5em; text-align: right; border: none;\">\n",
              "                0.0104\n",
              "                \n",
              "                    &plusmn; 0.0077\n",
              "                \n",
              "            </td>\n",
              "            <td style=\"padding: 0 0.5em 0 0.5em; text-align: left; border: none;\">\n",
              "                URB_LAND\n",
              "            </td>\n",
              "        </tr>\n",
              "    \n",
              "        <tr style=\"background-color: hsl(120, 100.00%, 96.79%); border: none;\">\n",
              "            <td style=\"padding: 0 1em 0 0.5em; text-align: right; border: none;\">\n",
              "                0.0068\n",
              "                \n",
              "                    &plusmn; 0.0039\n",
              "                \n",
              "            </td>\n",
              "            <td style=\"padding: 0 0.5em 0 0.5em; text-align: left; border: none;\">\n",
              "                aspectW\n",
              "            </td>\n",
              "        </tr>\n",
              "    \n",
              "        <tr style=\"background-color: hsl(120, 100.00%, 96.89%); border: none;\">\n",
              "            <td style=\"padding: 0 1em 0 0.5em; text-align: right; border: none;\">\n",
              "                0.0065\n",
              "                \n",
              "                    &plusmn; 0.0028\n",
              "                \n",
              "            </td>\n",
              "            <td style=\"padding: 0 0.5em 0 0.5em; text-align: left; border: none;\">\n",
              "                aspectE\n",
              "            </td>\n",
              "        </tr>\n",
              "    \n",
              "        <tr style=\"background-color: hsl(120, 100.00%, 96.92%); border: none;\">\n",
              "            <td style=\"padding: 0 1em 0 0.5em; text-align: right; border: none;\">\n",
              "                0.0064\n",
              "                \n",
              "                    &plusmn; 0.0035\n",
              "                \n",
              "            </td>\n",
              "            <td style=\"padding: 0 0.5em 0 0.5em; text-align: left; border: none;\">\n",
              "                CULTIR_LAND\n",
              "            </td>\n",
              "        </tr>\n",
              "    \n",
              "        <tr style=\"background-color: hsl(120, 100.00%, 97.00%); border: none;\">\n",
              "            <td style=\"padding: 0 1em 0 0.5em; text-align: right; border: none;\">\n",
              "                0.0062\n",
              "                \n",
              "                    &plusmn; 0.0033\n",
              "                \n",
              "            </td>\n",
              "            <td style=\"padding: 0 0.5em 0 0.5em; text-align: left; border: none;\">\n",
              "                aspectS\n",
              "            </td>\n",
              "        </tr>\n",
              "    \n",
              "        <tr style=\"background-color: hsl(120, 100.00%, 97.17%); border: none;\">\n",
              "            <td style=\"padding: 0 1em 0 0.5em; text-align: right; border: none;\">\n",
              "                0.0057\n",
              "                \n",
              "                    &plusmn; 0.0045\n",
              "                \n",
              "            </td>\n",
              "            <td style=\"padding: 0 0.5em 0 0.5em; text-align: left; border: none;\">\n",
              "                slope6\n",
              "            </td>\n",
              "        </tr>\n",
              "    \n",
              "        <tr style=\"background-color: hsl(120, 100.00%, 97.19%); border: none;\">\n",
              "            <td style=\"padding: 0 1em 0 0.5em; text-align: right; border: none;\">\n",
              "                0.0056\n",
              "                \n",
              "                    &plusmn; 0.0026\n",
              "                \n",
              "            </td>\n",
              "            <td style=\"padding: 0 0.5em 0 0.5em; text-align: left; border: none;\">\n",
              "                aspectN\n",
              "            </td>\n",
              "        </tr>\n",
              "    \n",
              "        <tr style=\"background-color: hsl(120, 100.00%, 97.21%); border: none;\">\n",
              "            <td style=\"padding: 0 1em 0 0.5em; text-align: right; border: none;\">\n",
              "                0.0055\n",
              "                \n",
              "                    &plusmn; 0.0027\n",
              "                \n",
              "            </td>\n",
              "            <td style=\"padding: 0 0.5em 0 0.5em; text-align: left; border: none;\">\n",
              "                GRS_LAND\n",
              "            </td>\n",
              "        </tr>\n",
              "    \n",
              "        <tr style=\"background-color: hsl(120, 100.00%, 97.22%); border: none;\">\n",
              "            <td style=\"padding: 0 1em 0 0.5em; text-align: right; border: none;\">\n",
              "                0.0055\n",
              "                \n",
              "                    &plusmn; 0.0027\n",
              "                \n",
              "            </td>\n",
              "            <td style=\"padding: 0 0.5em 0 0.5em; text-align: left; border: none;\">\n",
              "                FOR_LAND\n",
              "            </td>\n",
              "        </tr>\n",
              "    \n",
              "        <tr style=\"background-color: hsl(120, 100.00%, 97.22%); border: none;\">\n",
              "            <td style=\"padding: 0 1em 0 0.5em; text-align: right; border: none;\">\n",
              "                0.0055\n",
              "                \n",
              "                    &plusmn; 0.0044\n",
              "                \n",
              "            </td>\n",
              "            <td style=\"padding: 0 0.5em 0 0.5em; text-align: left; border: none;\">\n",
              "                slope5\n",
              "            </td>\n",
              "        </tr>\n",
              "    \n",
              "        <tr style=\"background-color: hsl(120, 100.00%, 97.26%); border: none;\">\n",
              "            <td style=\"padding: 0 1em 0 0.5em; text-align: right; border: none;\">\n",
              "                0.0054\n",
              "                \n",
              "                    &plusmn; 0.0052\n",
              "                \n",
              "            </td>\n",
              "            <td style=\"padding: 0 0.5em 0 0.5em; text-align: left; border: none;\">\n",
              "                aspectUnknown\n",
              "            </td>\n",
              "        </tr>\n",
              "    \n",
              "        <tr style=\"background-color: hsl(120, 100.00%, 97.31%); border: none;\">\n",
              "            <td style=\"padding: 0 1em 0 0.5em; text-align: right; border: none;\">\n",
              "                0.0053\n",
              "                \n",
              "                    &plusmn; 0.0021\n",
              "                \n",
              "            </td>\n",
              "            <td style=\"padding: 0 0.5em 0 0.5em; text-align: left; border: none;\">\n",
              "                slope4\n",
              "            </td>\n",
              "        </tr>\n",
              "    \n",
              "        <tr style=\"background-color: hsl(120, 100.00%, 97.34%); border: none;\">\n",
              "            <td style=\"padding: 0 1em 0 0.5em; text-align: right; border: none;\">\n",
              "                0.0052\n",
              "                \n",
              "                    &plusmn; 0.0023\n",
              "                \n",
              "            </td>\n",
              "            <td style=\"padding: 0 0.5em 0 0.5em; text-align: left; border: none;\">\n",
              "                fips\n",
              "            </td>\n",
              "        </tr>\n",
              "    \n",
              "        <tr style=\"background-color: hsl(120, 100.00%, 97.42%); border: none;\">\n",
              "            <td style=\"padding: 0 1em 0 0.5em; text-align: right; border: none;\">\n",
              "                0.0050\n",
              "                \n",
              "                    &plusmn; 0.0043\n",
              "                \n",
              "            </td>\n",
              "            <td style=\"padding: 0 0.5em 0 0.5em; text-align: left; border: none;\">\n",
              "                slope1\n",
              "            </td>\n",
              "        </tr>\n",
              "    \n",
              "        <tr style=\"background-color: hsl(120, 100.00%, 97.42%); border: none;\">\n",
              "            <td style=\"padding: 0 1em 0 0.5em; text-align: right; border: none;\">\n",
              "                0.0050\n",
              "                \n",
              "                    &plusmn; 0.0021\n",
              "                \n",
              "            </td>\n",
              "            <td style=\"padding: 0 0.5em 0 0.5em; text-align: left; border: none;\">\n",
              "                CULT_LAND\n",
              "            </td>\n",
              "        </tr>\n",
              "    \n",
              "        <tr style=\"background-color: hsl(120, 100.00%, 97.44%); border: none;\">\n",
              "            <td style=\"padding: 0 1em 0 0.5em; text-align: right; border: none;\">\n",
              "                0.0049\n",
              "                \n",
              "                    &plusmn; 0.0034\n",
              "                \n",
              "            </td>\n",
              "            <td style=\"padding: 0 0.5em 0 0.5em; text-align: left; border: none;\">\n",
              "                slope3\n",
              "            </td>\n",
              "        </tr>\n",
              "    \n",
              "        <tr style=\"background-color: hsl(120, 100.00%, 97.47%); border: none;\">\n",
              "            <td style=\"padding: 0 1em 0 0.5em; text-align: right; border: none;\">\n",
              "                0.0048\n",
              "                \n",
              "                    &plusmn; 0.0027\n",
              "                \n",
              "            </td>\n",
              "            <td style=\"padding: 0 0.5em 0 0.5em; text-align: left; border: none;\">\n",
              "                slope7\n",
              "            </td>\n",
              "        </tr>\n",
              "    \n",
              "        <tr style=\"background-color: hsl(120, 100.00%, 97.49%); border: none;\">\n",
              "            <td style=\"padding: 0 1em 0 0.5em; text-align: right; border: none;\">\n",
              "                0.0048\n",
              "                \n",
              "                    &plusmn; 0.0034\n",
              "                \n",
              "            </td>\n",
              "            <td style=\"padding: 0 0.5em 0 0.5em; text-align: left; border: none;\">\n",
              "                slope2\n",
              "            </td>\n",
              "        </tr>\n",
              "    \n",
              "        <tr style=\"background-color: hsl(120, 100.00%, 97.91%); border: none;\">\n",
              "            <td style=\"padding: 0 1em 0 0.5em; text-align: right; border: none;\">\n",
              "                0.0037\n",
              "                \n",
              "                    &plusmn; 0.0019\n",
              "                \n",
              "            </td>\n",
              "            <td style=\"padding: 0 0.5em 0 0.5em; text-align: left; border: none;\">\n",
              "                CULTRF_LAND\n",
              "            </td>\n",
              "        </tr>\n",
              "    \n",
              "        <tr style=\"background-color: hsl(120, 100.00%, 98.00%); border: none;\">\n",
              "            <td style=\"padding: 0 1em 0 0.5em; text-align: right; border: none;\">\n",
              "                0.0034\n",
              "                \n",
              "                    &plusmn; 0.0018\n",
              "                \n",
              "            </td>\n",
              "            <td style=\"padding: 0 0.5em 0 0.5em; text-align: left; border: none;\">\n",
              "                slope8\n",
              "            </td>\n",
              "        </tr>\n",
              "    \n",
              "        <tr style=\"background-color: hsl(120, 100.00%, 98.89%); border: none;\">\n",
              "            <td style=\"padding: 0 1em 0 0.5em; text-align: right; border: none;\">\n",
              "                0.0015\n",
              "                \n",
              "                    &plusmn; 0.0011\n",
              "                \n",
              "            </td>\n",
              "            <td style=\"padding: 0 0.5em 0 0.5em; text-align: left; border: none;\">\n",
              "                SQ1\n",
              "            </td>\n",
              "        </tr>\n",
              "    \n",
              "        <tr style=\"background-color: hsl(120, 100.00%, 99.31%); border: none;\">\n",
              "            <td style=\"padding: 0 1em 0 0.5em; text-align: right; border: none;\">\n",
              "                0.0008\n",
              "                \n",
              "                    &plusmn; 0.0007\n",
              "                \n",
              "            </td>\n",
              "            <td style=\"padding: 0 0.5em 0 0.5em; text-align: left; border: none;\">\n",
              "                SQ2\n",
              "            </td>\n",
              "        </tr>\n",
              "    \n",
              "        <tr style=\"background-color: hsl(120, 100.00%, 99.36%); border: none;\">\n",
              "            <td style=\"padding: 0 1em 0 0.5em; text-align: right; border: none;\">\n",
              "                0.0007\n",
              "                \n",
              "                    &plusmn; 0.0009\n",
              "                \n",
              "            </td>\n",
              "            <td style=\"padding: 0 0.5em 0 0.5em; text-align: left; border: none;\">\n",
              "                WAT_LAND\n",
              "            </td>\n",
              "        </tr>\n",
              "    \n",
              "        <tr style=\"background-color: hsl(120, 100.00%, 99.87%); border: none;\">\n",
              "            <td style=\"padding: 0 1em 0 0.5em; text-align: right; border: none;\">\n",
              "                0.0001\n",
              "                \n",
              "                    &plusmn; 0.0001\n",
              "                \n",
              "            </td>\n",
              "            <td style=\"padding: 0 0.5em 0 0.5em; text-align: left; border: none;\">\n",
              "                SQ4\n",
              "            </td>\n",
              "        </tr>\n",
              "    \n",
              "        <tr style=\"background-color: hsl(0, 100.00%, 100.00%); border: none;\">\n",
              "            <td style=\"padding: 0 1em 0 0.5em; text-align: right; border: none;\">\n",
              "                0\n",
              "                \n",
              "                    &plusmn; 0.0000\n",
              "                \n",
              "            </td>\n",
              "            <td style=\"padding: 0 0.5em 0 0.5em; text-align: left; border: none;\">\n",
              "                SQ6\n",
              "            </td>\n",
              "        </tr>\n",
              "    \n",
              "        <tr style=\"background-color: hsl(0, 100.00%, 100.00%); border: none;\">\n",
              "            <td style=\"padding: 0 1em 0 0.5em; text-align: right; border: none;\">\n",
              "                0\n",
              "                \n",
              "                    &plusmn; 0.0000\n",
              "                \n",
              "            </td>\n",
              "            <td style=\"padding: 0 0.5em 0 0.5em; text-align: left; border: none;\">\n",
              "                NVG_LAND\n",
              "            </td>\n",
              "        </tr>\n",
              "    \n",
              "        <tr style=\"background-color: hsl(0, 100.00%, 100.00%); border: none;\">\n",
              "            <td style=\"padding: 0 1em 0 0.5em; text-align: right; border: none;\">\n",
              "                0\n",
              "                \n",
              "                    &plusmn; 0.0000\n",
              "                \n",
              "            </td>\n",
              "            <td style=\"padding: 0 0.5em 0 0.5em; text-align: left; border: none;\">\n",
              "                SQ3\n",
              "            </td>\n",
              "        </tr>\n",
              "    \n",
              "        <tr style=\"background-color: hsl(0, 100.00%, 100.00%); border: none;\">\n",
              "            <td style=\"padding: 0 1em 0 0.5em; text-align: right; border: none;\">\n",
              "                0\n",
              "                \n",
              "                    &plusmn; 0.0000\n",
              "                \n",
              "            </td>\n",
              "            <td style=\"padding: 0 0.5em 0 0.5em; text-align: left; border: none;\">\n",
              "                SQ5\n",
              "            </td>\n",
              "        </tr>\n",
              "    \n",
              "        <tr style=\"background-color: hsl(0, 100.00%, 100.00%); border: none;\">\n",
              "            <td style=\"padding: 0 1em 0 0.5em; text-align: right; border: none;\">\n",
              "                0\n",
              "                \n",
              "                    &plusmn; 0.0000\n",
              "                \n",
              "            </td>\n",
              "            <td style=\"padding: 0 0.5em 0 0.5em; text-align: left; border: none;\">\n",
              "                SQ7\n",
              "            </td>\n",
              "        </tr>\n",
              "    \n",
              "    \n",
              "    </tbody>\n",
              "</table>\n",
              "    \n",
              "\n",
              "    \n",
              "\n",
              "\n",
              "    \n",
              "\n",
              "    \n",
              "\n",
              "    \n",
              "\n",
              "    \n",
              "\n",
              "    \n",
              "\n",
              "    \n",
              "\n",
              "\n",
              "\n"
            ],
            "text/plain": [
              "Explanation(estimator=\"RandomForestClassifier(bootstrap=True, ccp_alpha=0.0, class_weight=None,\\n                       criterion='gini', max_depth=15, max_features='auto',\\n                       max_leaf_nodes=None, max_samples=None,\\n                       min_impurity_decrease=0.0, min_impurity_split=None,\\n                       min_samples_leaf=1, min_samples_split=2,\\n                       min_weight_fraction_leaf=0.0, n_estimators=100,\\n                       n_jobs=-1, oob_score=False, random_state=42, verbose=0,\\n                       warm_start=False)\", description='\\nRandom forest feature importances; values are numbers 0 <= x <= 1;\\nall values sum to 1.\\n', error=None, method='feature importances', is_regression=False, targets=None, feature_importances=FeatureImportances(importances=[FeatureWeight(feature='T2M_MAX', weight=0.0924848149779109, std=0.03171713783114821, value=None), FeatureWeight(feature='TS', weight=0.06693811837651527, std=0.01917095692169132, value=None), FeatureWeight(feature='T2M', weight=0.06485072965378967, std=0.019919531545754657, value=None), FeatureWeight(feature='T2M_MIN', weight=0.05866844954816016, std=0.01490707666629047, value=None), FeatureWeight(feature='T2M_RANGE', weight=0.05860235529283341, std=0.01645409952333259, value=None), FeatureWeight(feature='T2MDEW', weight=0.05814290420800435, std=0.009836303951413279, value=None), FeatureWeight(feature='T2MWET', weight=0.055835007999745494, std=0.008409687816022072, value=None), FeatureWeight(feature='QV2M', weight=0.054499112854973525, std=0.00964908794560841, value=None), FeatureWeight(feature='PRECTOT', weight=0.040231201512772055, std=0.002929541765829179, value=None), FeatureWeight(feature='PS', weight=0.03561187214949663, std=0.0033233889824959926, value=None), FeatureWeight(feature='WS50M', weight=0.033738031732588956, std=0.0025329070005351696, value=None), FeatureWeight(feature='WS50M_RANGE', weight=0.03310791889426205, std=0.002408778887750979, value=None), FeatureWeight(feature='WS50M_MAX', weight=0.03305928175255628, std=0.0026557245517463746, value=None), FeatureWeight(feature='WS10M_MAX', weight=0.03282294232904544, std=0.0026825520532365046, value=None), FeatureWeight(feature='WS10M_RANGE', weight=0.03216145138667872, std=0.0024213803041898446, value=None), FeatureWeight(feature='WS50M_MIN', weight=0.031770093540625204, std=0.0022776138013560388, value=None), FeatureWeight(feature='WS10M', weight=0.031381140555086326, std=0.0028462692980745874, value=None), FeatureWeight(feature='WS10M_MIN', weight=0.03080138686049486, std=0.003120975761405472, value=None), FeatureWeight(feature='lon', weight=0.016279918423946316, std=0.004803051548034125, value=None), FeatureWeight(feature='elevation', weight=0.012313421815672016, std=0.0048331184795428975, value=None), FeatureWeight(feature='lat', weight=0.012251348286192874, std=0.0029497422627960653, value=None), FeatureWeight(feature='URB_LAND', weight=0.010442598798740543, std=0.0038479564489123904, value=None), FeatureWeight(feature='aspectW', weight=0.006787020357010362, std=0.0019372722861535961, value=None), FeatureWeight(feature='aspectE', weight=0.006465051241906368, std=0.0013892926485617758, value=None), FeatureWeight(feature='CULTIR_LAND', weight=0.006377038539408502, std=0.001745021572547332, value=None), FeatureWeight(feature='aspectS', weight=0.00615648037593811, std=0.0016367292257578076, value=None), FeatureWeight(feature='slope6', weight=0.005657903461183877, std=0.0022606105289572002, value=None), FeatureWeight(feature='aspectN', weight=0.0055977544501130015, std=0.0012768597118521107, value=None), FeatureWeight(feature='GRS_LAND', weight=0.005537891612745717, std=0.0013322488457278687, value=None), FeatureWeight(feature='FOR_LAND', weight=0.005530268958253997, std=0.001325280306171866, value=None), FeatureWeight(feature='slope5', weight=0.005520420407292112, std=0.002189967838505913, value=None), FeatureWeight(feature='aspectUnknown', weight=0.005391823014421541, std=0.0026105745000348144, value=None), FeatureWeight(feature='slope4', weight=0.005270739232068472, std=0.0010693555822747524, value=None), FeatureWeight(feature='fips', weight=0.005192116347404866, std=0.0011696696133784738, value=None), FeatureWeight(feature='slope1', weight=0.004963247283351444, std=0.002164733223230327, value=None), FeatureWeight(feature='CULT_LAND', weight=0.00495931949887276, std=0.001034172925835289, value=None), FeatureWeight(feature='slope3', weight=0.004901728223553589, std=0.0017108976560088892, value=None), FeatureWeight(feature='slope7', weight=0.004834478691566964, std=0.001374093979740033, value=None), FeatureWeight(feature='slope2', weight=0.004758531710506927, std=0.001704852587448377, value=None), FeatureWeight(feature='CULTRF_LAND', weight=0.003665325081191117, std=0.0009619318794920352, value=None), FeatureWeight(feature='slope8', weight=0.0034399551487121448, std=0.0009079532878552952, value=None), FeatureWeight(feature='SQ1', weight=0.001489055256951159, std=0.0005399011724536415, value=None), FeatureWeight(feature='SQ2', weight=0.0007535867988267014, std=0.0003392295261934585, value=None), FeatureWeight(feature='WAT_LAND', weight=0.0006836543821504345, std=0.00042976423960768635, value=None), FeatureWeight(feature='SQ4', weight=7.250897647878048e-05, std=7.203542372915757e-05, value=None), FeatureWeight(feature='SQ6', weight=0.0, std=0.0, value=None), FeatureWeight(feature='NVG_LAND', weight=0.0, std=0.0, value=None), FeatureWeight(feature='SQ3', weight=0.0, std=0.0, value=None), FeatureWeight(feature='SQ5', weight=0.0, std=0.0, value=None), FeatureWeight(feature='SQ7', weight=0.0, std=0.0, value=None)], remaining=0), decision_tree=None, highlight_spaces=None, transition_features=None, image=None)"
            ]
          },
          "metadata": {
            "tags": []
          },
          "execution_count": 60
        }
      ]
    },
    {
      "cell_type": "markdown",
      "metadata": {
        "id": "gptXiQ2tWv2C"
      },
      "source": [
        "# Set Up XGBoost Model"
      ]
    },
    {
      "cell_type": "code",
      "metadata": {
        "colab": {
          "base_uri": "https://localhost:8080/"
        },
        "id": "HtkUoIImWuR4",
        "outputId": "e017a779-25d0-4a31-c2ac-7d5b313387eb"
      },
      "source": [
        "import xgboost\n",
        "from xgboost import XGBClassifier\n",
        "\n",
        "xgb_model = XGBClassifier(\n",
        "    n_estimators = 1000,\n",
        "    max_depth = 15,\n",
        "    learning_rate = 0.5,\n",
        "    n_jobs = -1,\n",
        "    random_state = 42    \n",
        ")\n",
        "\n",
        "eval_set = [(X_train, y_train),\n",
        "            (X_val, y_val)]\n",
        "\n",
        "xgb_model.fit(X_train, y_train,\n",
        "              eval_set = eval_set,\n",
        "              eval_metric = 'merror',\n",
        "              early_stopping_rounds = 50)"
      ],
      "execution_count": 66,
      "outputs": [
        {
          "output_type": "stream",
          "text": [
            "[0]\tvalidation_0-merror:0.22937\tvalidation_1-merror:0.266469\n",
            "Multiple eval metrics have been passed: 'validation_1-merror' will be used for early stopping.\n",
            "\n",
            "Will train until validation_1-merror hasn't improved in 50 rounds.\n",
            "[1]\tvalidation_0-merror:0.208628\tvalidation_1-merror:0.260601\n",
            "[2]\tvalidation_0-merror:0.193645\tvalidation_1-merror:0.258659\n",
            "[3]\tvalidation_0-merror:0.182601\tvalidation_1-merror:0.259068\n",
            "[4]\tvalidation_0-merror:0.168887\tvalidation_1-merror:0.259742\n",
            "[5]\tvalidation_0-merror:0.157007\tvalidation_1-merror:0.260949\n",
            "[6]\tvalidation_0-merror:0.143783\tvalidation_1-merror:0.262319\n",
            "[7]\tvalidation_0-merror:0.133768\tvalidation_1-merror:0.264588\n",
            "[8]\tvalidation_0-merror:0.123991\tvalidation_1-merror:0.266162\n",
            "[9]\tvalidation_0-merror:0.116142\tvalidation_1-merror:0.267164\n",
            "[10]\tvalidation_0-merror:0.106463\tvalidation_1-merror:0.26743\n",
            "[11]\tvalidation_0-merror:0.099082\tvalidation_1-merror:0.268227\n",
            "[12]\tvalidation_0-merror:0.093061\tvalidation_1-merror:0.269188\n",
            "[13]\tvalidation_0-merror:0.08855\tvalidation_1-merror:0.27017\n",
            "[14]\tvalidation_0-merror:0.083854\tvalidation_1-merror:0.270456\n",
            "[15]\tvalidation_0-merror:0.0789\tvalidation_1-merror:0.271172\n",
            "[16]\tvalidation_0-merror:0.072267\tvalidation_1-merror:0.27158\n",
            "[17]\tvalidation_0-merror:0.068746\tvalidation_1-merror:0.271724\n",
            "[18]\tvalidation_0-merror:0.064047\tvalidation_1-merror:0.272398\n",
            "[19]\tvalidation_0-merror:0.061153\tvalidation_1-merror:0.272971\n",
            "[20]\tvalidation_0-merror:0.059055\tvalidation_1-merror:0.27338\n",
            "[21]\tvalidation_0-merror:0.055899\tvalidation_1-merror:0.273359\n",
            "[22]\tvalidation_0-merror:0.05495\tvalidation_1-merror:0.273707\n",
            "[23]\tvalidation_0-merror:0.05029\tvalidation_1-merror:0.273482\n",
            "[24]\tvalidation_0-merror:0.047408\tvalidation_1-merror:0.273707\n",
            "[25]\tvalidation_0-merror:0.044454\tvalidation_1-merror:0.273666\n",
            "[26]\tvalidation_0-merror:0.042113\tvalidation_1-merror:0.273891\n",
            "[27]\tvalidation_0-merror:0.039296\tvalidation_1-merror:0.273645\n",
            "[28]\tvalidation_0-merror:0.038167\tvalidation_1-merror:0.273666\n",
            "[29]\tvalidation_0-merror:0.0379\tvalidation_1-merror:0.273686\n",
            "[30]\tvalidation_0-merror:0.034807\tvalidation_1-merror:0.273318\n",
            "[31]\tvalidation_0-merror:0.032999\tvalidation_1-merror:0.273339\n",
            "[32]\tvalidation_0-merror:0.031973\tvalidation_1-merror:0.27385\n",
            "[33]\tvalidation_0-merror:0.028534\tvalidation_1-merror:0.27432\n",
            "[34]\tvalidation_0-merror:0.027548\tvalidation_1-merror:0.274504\n",
            "[35]\tvalidation_0-merror:0.027027\tvalidation_1-merror:0.274259\n",
            "[36]\tvalidation_0-merror:0.024426\tvalidation_1-merror:0.274525\n",
            "[37]\tvalidation_0-merror:0.023369\tvalidation_1-merror:0.274484\n",
            "[38]\tvalidation_0-merror:0.022556\tvalidation_1-merror:0.274136\n",
            "[39]\tvalidation_0-merror:0.020936\tvalidation_1-merror:0.274136\n",
            "[40]\tvalidation_0-merror:0.019747\tvalidation_1-merror:0.273891\n",
            "[41]\tvalidation_0-merror:0.018511\tvalidation_1-merror:0.274054\n",
            "[42]\tvalidation_0-merror:0.018208\tvalidation_1-merror:0.274054\n",
            "[43]\tvalidation_0-merror:0.017185\tvalidation_1-merror:0.273932\n",
            "[44]\tvalidation_0-merror:0.014327\tvalidation_1-merror:0.274157\n",
            "[45]\tvalidation_0-merror:0.014002\tvalidation_1-merror:0.274157\n",
            "[46]\tvalidation_0-merror:0.013027\tvalidation_1-merror:0.273829\n",
            "[47]\tvalidation_0-merror:0.012745\tvalidation_1-merror:0.273686\n",
            "[48]\tvalidation_0-merror:0.012676\tvalidation_1-merror:0.273584\n",
            "[49]\tvalidation_0-merror:0.011695\tvalidation_1-merror:0.273686\n",
            "[50]\tvalidation_0-merror:0.011147\tvalidation_1-merror:0.273502\n",
            "[51]\tvalidation_0-merror:0.010176\tvalidation_1-merror:0.273625\n",
            "[52]\tvalidation_0-merror:0.010106\tvalidation_1-merror:0.2734\n",
            "Stopping. Best iteration:\n",
            "[2]\tvalidation_0-merror:0.193645\tvalidation_1-merror:0.258659\n",
            "\n"
          ],
          "name": "stdout"
        },
        {
          "output_type": "execute_result",
          "data": {
            "text/plain": [
              "XGBClassifier(base_score=0.5, booster='gbtree', colsample_bylevel=1,\n",
              "              colsample_bynode=1, colsample_bytree=1, gamma=0,\n",
              "              learning_rate=0.5, max_delta_step=0, max_depth=15,\n",
              "              min_child_weight=1, missing=None, n_estimators=1000, n_jobs=-1,\n",
              "              nthread=None, objective='multi:softprob', random_state=42,\n",
              "              reg_alpha=0, reg_lambda=1, scale_pos_weight=1, seed=None,\n",
              "              silent=None, subsample=1, verbosity=1)"
            ]
          },
          "metadata": {
            "tags": []
          },
          "execution_count": 66
        }
      ]
    },
    {
      "cell_type": "code",
      "metadata": {
        "colab": {
          "base_uri": "https://localhost:8080/"
        },
        "id": "rELVwMDMnHC9",
        "outputId": "16b4b4ab-2580-41f9-cb2f-69a0e83e83d5"
      },
      "source": [
        "print('Validation Accuracy for XGBoost Model (with Early Stopping) is:', xgb_model.score(X_val, y_val))"
      ],
      "execution_count": 67,
      "outputs": [
        {
          "output_type": "stream",
          "text": [
            "Validation Accuracy for XGBoost Model (with Early Stopping) is: 0.7413412390104274\n"
          ],
          "name": "stdout"
        }
      ]
    },
    {
      "cell_type": "code",
      "metadata": {
        "colab": {
          "base_uri": "https://localhost:8080/"
        },
        "id": "p6dOHYfxoVcy",
        "outputId": "81877147-48cf-4812-dff6-d01135141730"
      },
      "source": [
        "print('Test Accuracy for XGBoost Model (with Early Stopping) is:', xgb_model.score(X_test, y_test))"
      ],
      "execution_count": 68,
      "outputs": [
        {
          "output_type": "stream",
          "text": [
            "Test Accuracy for XGBoost Model (with Early Stopping) is: 0.7253200481858831\n"
          ],
          "name": "stdout"
        }
      ]
    },
    {
      "cell_type": "code",
      "metadata": {
        "colab": {
          "base_uri": "https://localhost:8080/"
        },
        "id": "dbxryPY6mpHA",
        "outputId": "7465c28f-4177-4294-c6b6-c0efe77b23b0"
      },
      "source": [
        "# XGBoost Model No Early Stopping\n",
        "\n",
        "xgb_model2 = XGBClassifier(\n",
        "    n_estimators = 100,\n",
        "    max_depth = 15,\n",
        "    learning_rate = 1.5,\n",
        "    n_jobs = -1,\n",
        "    random_state = 42    \n",
        ")\n",
        "\n",
        "xgb_model2.fit(X_train, y_train)\n",
        "\n",
        "print('Validation Accuracy for XGBoost Model (No Early Stopping) is:', xgb_model2.score(X_val, y_val))"
      ],
      "execution_count": 73,
      "outputs": [
        {
          "output_type": "stream",
          "text": [
            "Validation Accuracy for XGBoost Model is: 0.6594765896544674\n"
          ],
          "name": "stdout"
        }
      ]
    },
    {
      "cell_type": "code",
      "metadata": {
        "colab": {
          "base_uri": "https://localhost:8080/"
        },
        "id": "HZqgyQnuokxO",
        "outputId": "f3acc9de-db66-434b-cf67-f766d6774e1d"
      },
      "source": [
        "print('Test Accuracy for XGBoost Model (No Early Stopping) is:', xgb_model2.score(X_test, y_test))"
      ],
      "execution_count": 75,
      "outputs": [
        {
          "output_type": "stream",
          "text": [
            "Test Accuracy for XGBoost Model (No Early Stopping) is: 0.658676521632603\n"
          ],
          "name": "stdout"
        }
      ]
    },
    {
      "cell_type": "code",
      "metadata": {
        "colab": {
          "base_uri": "https://localhost:8080/"
        },
        "id": "-AlOk2QFvRJr",
        "outputId": "04bef640-5056-4505-c5b4-add5f860c498"
      },
      "source": [
        "# XGBoost Model with No Early Stopping Overfit!!!\n",
        "\n",
        "print('Training Accuracy for SGBoost Model (No Early Stopping) is:', xgb_model2.score(X_train, y_train))"
      ],
      "execution_count": 76,
      "outputs": [
        {
          "output_type": "stream",
          "text": [
            "Training Accuracy for SGBoost Model (No Early Stopping) is: 0.9996995697839306\n"
          ],
          "name": "stdout"
        }
      ]
    },
    {
      "cell_type": "markdown",
      "metadata": {
        "id": "gwT-lUXawb4z"
      },
      "source": [
        "# Set Up ADA Boost Classifier"
      ]
    },
    {
      "cell_type": "code",
      "metadata": {
        "colab": {
          "base_uri": "https://localhost:8080/"
        },
        "id": "LwyIp_EnlkIi",
        "outputId": "8131c412-c226-4a04-ad4a-00f3c0535e56"
      },
      "source": [
        "# Set up ADA Boost Classifier\n",
        "\n",
        "from sklearn.ensemble import AdaBoostClassifier\n",
        "\n",
        "ada_model = AdaBoostClassifier(\n",
        "    n_estimators = 100,\n",
        "    learning_rate = 1.5,\n",
        "    random_state = 42\n",
        ")\n",
        "\n",
        "ada_model.fit(X_train, y_train)\n",
        "\n",
        "print('Valuation Accuracy for ADA Boost Model:', ada_model.score(X_val, y_val))"
      ],
      "execution_count": 70,
      "outputs": [
        {
          "output_type": "stream",
          "text": [
            "Valuation Accuracy for ADA Boost Model: 0.04401962788795747\n"
          ],
          "name": "stdout"
        }
      ]
    },
    {
      "cell_type": "code",
      "metadata": {
        "colab": {
          "base_uri": "https://localhost:8080/"
        },
        "id": "Aczilqt6og0X",
        "outputId": "019b1cbd-ea7c-4094-b903-77f816180909"
      },
      "source": [
        "print('Test Accuracy for ADA Boost Model is:', ada_model.score(X_test, y_test))"
      ],
      "execution_count": 71,
      "outputs": [
        {
          "output_type": "stream",
          "text": [
            "Test Accuracy for ADA Boost Model is: 0.04185638156685791\n"
          ],
          "name": "stdout"
        }
      ]
    },
    {
      "cell_type": "code",
      "metadata": {
        "colab": {
          "base_uri": "https://localhost:8080/"
        },
        "id": "OtA1gk70pagc",
        "outputId": "9bdff4d4-49cd-4ce0-ff08-ee26b9b32418"
      },
      "source": [
        "print('Training Accuracy for ADA Boost Model:', ada_model.score(X_train, y_train))"
      ],
      "execution_count": 72,
      "outputs": [
        {
          "output_type": "stream",
          "text": [
            "Training Accuracy for ADA Boost Model: 0.027466532073929868\n"
          ],
          "name": "stdout"
        }
      ]
    },
    {
      "cell_type": "markdown",
      "metadata": {
        "id": "ErKmhug1wiEO"
      },
      "source": [
        "# Use GridSearchCV to Optimize Hyperparameters for Random Forest Classifier"
      ]
    },
    {
      "cell_type": "code",
      "metadata": {
        "colab": {
          "base_uri": "https://localhost:8080/"
        },
        "id": "NOAEzLanwhbK",
        "outputId": "e7aac047-f836-454c-95d5-7806e18bcebd"
      },
      "source": [
        "from sklearn.model_selection import GridSearchCV\n",
        "\n",
        "# Set up parameters distributions fro Grid Search as follows: \n",
        "# (1) RandomForestClassifier for maximum number of features\n",
        "\n",
        "param_distributions = {\n",
        "    'max_features' : np.arange(1, len(X_train.columns)+1),\n",
        "    'max_depth' : [10, 15, 25, None], \n",
        "    'n_estimators' : [75, 100, 300],\n",
        "    'criterion' : ['gini', 'entropy'],\n",
        " }\n",
        "\n",
        "# Set up a GridSearch\n",
        "\n",
        "search_grid = GridSearchCV(\n",
        "    model,\n",
        "    param_grid = param_distributions,\n",
        "    scoring = 'accuracy',\n",
        "    verbose = 10,\n",
        "    cv = 5,\n",
        "    n_jobs = -1,\n",
        "    refit = True,\n",
        "    return_train_score = True\n",
        ")\n",
        "\n",
        "search_grid.fit(X_train, y_train)"
      ],
      "execution_count": null,
      "outputs": [
        {
          "output_type": "stream",
          "text": [
            "Fitting 5 folds for each of 1200 candidates, totalling 6000 fits\n"
          ],
          "name": "stdout"
        },
        {
          "output_type": "stream",
          "text": [
            "[Parallel(n_jobs=-1)]: Using backend LokyBackend with 2 concurrent workers.\n",
            "[Parallel(n_jobs=-1)]: Done   1 tasks      | elapsed:   30.1s\n",
            "[Parallel(n_jobs=-1)]: Done   4 tasks      | elapsed:   58.8s\n",
            "[Parallel(n_jobs=-1)]: Done   9 tasks      | elapsed:  2.7min\n",
            "[Parallel(n_jobs=-1)]: Done  14 tasks      | elapsed:  6.6min\n"
          ],
          "name": "stderr"
        }
      ]
    },
    {
      "cell_type": "code",
      "metadata": {
        "colab": {
          "base_uri": "https://localhost:8080/"
        },
        "id": "4FqHwBrOy9tB",
        "outputId": "8a010e56-f569-412c-e348-52256b8d779e"
      },
      "source": [
        "RandomForestClassifier().get_params()\n"
      ],
      "execution_count": 82,
      "outputs": [
        {
          "output_type": "execute_result",
          "data": {
            "text/plain": [
              "{'bootstrap': True,\n",
              " 'ccp_alpha': 0.0,\n",
              " 'class_weight': None,\n",
              " 'criterion': 'gini',\n",
              " 'max_depth': None,\n",
              " 'max_features': 'auto',\n",
              " 'max_leaf_nodes': None,\n",
              " 'max_samples': None,\n",
              " 'min_impurity_decrease': 0.0,\n",
              " 'min_impurity_split': None,\n",
              " 'min_samples_leaf': 1,\n",
              " 'min_samples_split': 2,\n",
              " 'min_weight_fraction_leaf': 0.0,\n",
              " 'n_estimators': 100,\n",
              " 'n_jobs': None,\n",
              " 'oob_score': False,\n",
              " 'random_state': None,\n",
              " 'verbose': 0,\n",
              " 'warm_start': False}"
            ]
          },
          "metadata": {
            "tags": []
          },
          "execution_count": 82
        }
      ]
    }
  ]
}